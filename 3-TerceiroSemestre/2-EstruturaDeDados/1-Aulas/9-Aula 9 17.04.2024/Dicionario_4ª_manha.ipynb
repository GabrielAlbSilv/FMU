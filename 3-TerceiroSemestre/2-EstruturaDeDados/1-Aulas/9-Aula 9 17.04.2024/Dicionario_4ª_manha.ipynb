{
  "nbformat": 4,
  "nbformat_minor": 0,
  "metadata": {
    "colab": {
      "provenance": []
    },
    "kernelspec": {
      "name": "python3",
      "display_name": "Python 3"
    },
    "language_info": {
      "name": "python"
    }
  },
  "cells": [
    {
      "cell_type": "code",
      "execution_count": null,
      "metadata": {
        "colab": {
          "base_uri": "https://localhost:8080/"
        },
        "id": "8Jij0j4z_VvV",
        "outputId": "2d3fe286-3deb-4043-994f-403c9ec6b090"
      },
      "outputs": [
        {
          "output_type": "stream",
          "name": "stdout",
          "text": [
            "<class 'dict'>\n"
          ]
        }
      ],
      "source": [
        "dic={\"cor1\":\"azul\",\"cor2\":\"amarelo\",\n",
        "     \"cor3\":\"rosa\",\"cor4\":\"verde\"}\n",
        "print(type(dic))"
      ]
    },
    {
      "cell_type": "code",
      "source": [
        "#alterando o conteúdo\n",
        "dic={\"cor1\":\"azul\",\"cor2\":\"amarelo\",\n",
        "     \"cor3\":\"rosa\",\"cor4\":\"verde\",\n",
        "     \"cor5\":\"azul\",\"cor1\":\"vermelho\"}\n",
        "print(dic)"
      ],
      "metadata": {
        "colab": {
          "base_uri": "https://localhost:8080/"
        },
        "id": "VBHJwckaAOTz",
        "outputId": "b10fd359-8c0c-4b88-c2de-cbed10c1e1a1"
      },
      "execution_count": null,
      "outputs": [
        {
          "output_type": "stream",
          "name": "stdout",
          "text": [
            "{'cor1': 'vermelho', 'cor2': 'amarelo', 'cor3': 'rosa', 'cor4': 'verde', 'cor5': 'azul'}\n"
          ]
        }
      ]
    },
    {
      "cell_type": "code",
      "source": [
        "dic={\"cor1\":\"azul\",\"cor2\":\"amarelo\",\n",
        "     \"cor3\":\"rosa\",\"cor4\":\"verde\"}\n",
        "#acessar os elementos do dicionário\n",
        "print(dic)\n",
        "print(dic.keys())\n",
        "print(dic.values())"
      ],
      "metadata": {
        "colab": {
          "base_uri": "https://localhost:8080/"
        },
        "id": "BTMdkzUrBFVr",
        "outputId": "d1d755bf-4843-4d01-bc2e-9d62623231ac"
      },
      "execution_count": null,
      "outputs": [
        {
          "output_type": "stream",
          "name": "stdout",
          "text": [
            "{'cor1': 'azul', 'cor2': 'amarelo', 'cor3': 'rosa', 'cor4': 'verde'}\n",
            "dict_keys(['cor1', 'cor2', 'cor3', 'cor4'])\n",
            "dict_values(['azul', 'amarelo', 'rosa', 'verde'])\n"
          ]
        }
      ]
    },
    {
      "cell_type": "code",
      "source": [
        "dic={\"cor1\":\"azul\",\"cor2\":\"amarelo\",\n",
        "     \"cor3\":\"rosa\",\"cor4\":\"verde\"}\n",
        "#incluindo uma nova cor\n",
        "dic[\"cor5\"]=\"ciano\"\n",
        "dic[\"cor6\"]=\"marrom\"\n",
        "print(dic)\n",
        "\n",
        "#alterar o conteúdo de uma cor\n",
        "dic[\"cor1\"]=\"laranja\"\n",
        "print(dic)\n",
        "\n",
        "#atribuindo um valor de um item\n",
        "#do dicionário a uma variável\n",
        "valor=dic[\"cor1\"]\n",
        "print(valor)\n",
        "valor=dic.get(\"cor2\")\n",
        "print(valor)\n"
      ],
      "metadata": {
        "colab": {
          "base_uri": "https://localhost:8080/"
        },
        "id": "4dmvPSM-Cm9y",
        "outputId": "94bf64e5-d397-4f2f-81ab-5fb98998198a"
      },
      "execution_count": null,
      "outputs": [
        {
          "output_type": "stream",
          "name": "stdout",
          "text": [
            "{'cor1': 'azul', 'cor2': 'amarelo', 'cor3': 'rosa', 'cor4': 'verde', 'cor5': 'ciano', 'cor6': 'marrom'}\n",
            "{'cor1': 'laranja', 'cor2': 'amarelo', 'cor3': 'rosa', 'cor4': 'verde', 'cor5': 'ciano', 'cor6': 'marrom'}\n",
            "laranja\n",
            "amarelo\n"
          ]
        }
      ]
    },
    {
      "cell_type": "code",
      "source": [
        "dic={\"cor1\":\"azul\",\"cor2\":\"amarelo\",\n",
        "     \"cor3\":\"rosa\",\"cor4\":\"verde\"}\n",
        "print(dic)\n",
        "print(dic.keys())\n",
        "print(dic.values())\n",
        "print(dic.items())\n",
        "\n"
      ],
      "metadata": {
        "colab": {
          "base_uri": "https://localhost:8080/"
        },
        "id": "ztuaMMg3FCAi",
        "outputId": "c99ee114-d163-4e85-a863-af552f5ec087"
      },
      "execution_count": null,
      "outputs": [
        {
          "output_type": "stream",
          "name": "stdout",
          "text": [
            "{'cor1': 'azul', 'cor2': 'amarelo', 'cor3': 'rosa', 'cor4': 'verde'}\n",
            "dict_keys(['cor1', 'cor2', 'cor3', 'cor4'])\n",
            "dict_values(['azul', 'amarelo', 'rosa', 'verde'])\n",
            "dict_items([('cor1', 'azul'), ('cor2', 'amarelo'), ('cor3', 'rosa'), ('cor4', 'verde')])\n"
          ]
        }
      ]
    },
    {
      "cell_type": "code",
      "source": [
        "dic={\"cor1\":\"azul\",\"cor2\":\"amarelo\",\n",
        "     \"cor3\":\"rosa\",\"cor4\":\"verde\"}\n",
        "for cor in dic:\n",
        "  print(cor)\n",
        "#ou\n",
        "for cor in dic.keys():\n",
        "  print(cor)\n",
        "\n",
        "for cor in dic.values():\n",
        "  print(cor)\n",
        "\n",
        "for cor in dic.items():\n",
        "  print(cor)\n",
        "\n",
        "\n"
      ],
      "metadata": {
        "colab": {
          "base_uri": "https://localhost:8080/"
        },
        "id": "njgEIYTsGjqL",
        "outputId": "e70e930d-e9a4-42bd-b647-5073587006fa"
      },
      "execution_count": null,
      "outputs": [
        {
          "output_type": "stream",
          "name": "stdout",
          "text": [
            "cor1\n",
            "cor2\n",
            "cor3\n",
            "cor4\n",
            "cor1\n",
            "cor2\n",
            "cor3\n",
            "cor4\n",
            "azul\n",
            "amarelo\n",
            "rosa\n",
            "verde\n",
            "('cor1', 'azul')\n",
            "('cor2', 'amarelo')\n",
            "('cor3', 'rosa')\n",
            "('cor4', 'verde')\n"
          ]
        }
      ]
    },
    {
      "cell_type": "code",
      "source": [
        "dic={\"cor1\":\"azul\",\"cor2\":\"amarelo\",\n",
        "     \"cor3\":\"rosa\",\"cor4\":\"verde\"}\n",
        "\n",
        "del dic[\"cor1\"]  #exclusão pelo índice\n",
        "valor_excluido=dic.pop(\"cor4\") # nome dic.método()\n",
        "print(f\"Item excluído: {valor_excluido}\")\n",
        "print(dic)\n",
        "dic.clear()   #exclui TODOS OS ITENS\n",
        "print(dic)"
      ],
      "metadata": {
        "colab": {
          "base_uri": "https://localhost:8080/"
        },
        "id": "Xh6yLiliHuz0",
        "outputId": "055ce066-6dbb-4c0c-a684-22542030b1e5"
      },
      "execution_count": null,
      "outputs": [
        {
          "output_type": "stream",
          "name": "stdout",
          "text": [
            "Item excluído: verde\n",
            "{'cor2': 'amarelo', 'cor3': 'rosa'}\n",
            "{}\n"
          ]
        }
      ]
    },
    {
      "cell_type": "code",
      "source": [
        "dic={\"cor1\":\"azul\",\"cor2\":\"amarelo\",\n",
        "     \"cor3\":\"rosa\",\"cor4\":\"verde\"}\n",
        "print(f\"Número de itens: {len(dic)}\")"
      ],
      "metadata": {
        "colab": {
          "base_uri": "https://localhost:8080/"
        },
        "id": "6-SpZDuiJk4S",
        "outputId": "aa2149f8-0f7d-425f-87b9-bce07eaca173"
      },
      "execution_count": null,
      "outputs": [
        {
          "output_type": "stream",
          "name": "stdout",
          "text": [
            "Número de itens: 4\n"
          ]
        }
      ]
    },
    {
      "cell_type": "code",
      "source": [
        "#1)Crie um dicionário que represente as notas de um estudante em\n",
        "#várias disciplinas.Calcule a média das notas e imprima-a na tela.\n",
        "#Adicione uma nova disciplina e sua nota ao dicionário\n",
        "# e recalcule a média.\n",
        "notas = {\"Português\":5,\"Matemática\":9,\"Física\":2}\n",
        "somaNotas=0\n",
        "notas[\"Química\"]=10\n",
        "for nota in notas.values():\n",
        "  somaNotas=somaNotas+nota\n",
        "\n",
        "print(f\"Média = {somaNotas/len(notas):.2}\")\n"
      ],
      "metadata": {
        "colab": {
          "base_uri": "https://localhost:8080/"
        },
        "id": "ZHY2oY0iRY0r",
        "outputId": "4fdbb00e-b9df-414e-e05a-fcb175c31c81"
      },
      "execution_count": null,
      "outputs": [
        {
          "output_type": "stream",
          "name": "stdout",
          "text": [
            "Média = 6.5\n"
          ]
        }
      ]
    },
    {
      "cell_type": "code",
      "source": [
        "frutas={\"maçã\":10,\"abacate\":15,\"melão\":3,\n",
        "        \"melancia\":1}\n",
        "print(frutas.keys())\n",
        "frutaUsuario=input(\"Fruta:\")\n",
        "if frutaUsuario in frutas:\n",
        "  print(frutas.get(frutaUsuario))\n",
        "else:\n",
        "  print(\"Fruta não cadastrada!\")\n",
        "\n",
        "\n",
        "\n"
      ],
      "metadata": {
        "colab": {
          "base_uri": "https://localhost:8080/"
        },
        "id": "xuXKqHx1T5X7",
        "outputId": "cafd8f9c-22b0-46b7-cb63-e90bac66193f"
      },
      "execution_count": 4,
      "outputs": [
        {
          "output_type": "stream",
          "name": "stdout",
          "text": [
            "dict_keys(['maçã', 'abacate', 'melão', 'melancia'])\n",
            "Fruta:limão\n",
            "Fruta não cadastrada!\n"
          ]
        }
      ]
    },
    {
      "cell_type": "code",
      "source": [
        "contagem_numeros = {}    #dicionário vazio\n",
        "numeros = [1, 2, 3, 2, 4, 5, 1, 3, 2, 1, 5, 5]   #lista\n",
        "\n",
        "# Iterar pela lista e contar as ocorrências de cada número\n",
        "for numero in numeros:\n",
        "    if numero in contagem_numeros:\n",
        "        contagem_numeros[numero] += 1    #adicionando no dicionário contagem_numeros\n",
        "    else:\n",
        "        contagem_numeros[numero] = 1\n",
        "\n"
      ],
      "metadata": {
        "id": "AcbkNBscKJLi"
      },
      "execution_count": null,
      "outputs": []
    }
  ]
}