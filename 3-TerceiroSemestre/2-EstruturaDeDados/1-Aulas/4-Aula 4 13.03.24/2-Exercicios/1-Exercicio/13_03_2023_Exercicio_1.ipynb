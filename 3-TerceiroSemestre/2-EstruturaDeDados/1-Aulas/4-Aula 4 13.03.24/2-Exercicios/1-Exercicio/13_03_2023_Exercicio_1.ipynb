{
  "nbformat": 4,
  "nbformat_minor": 0,
  "metadata": {
    "colab": {
      "provenance": []
    },
    "kernelspec": {
      "name": "python3",
      "display_name": "Python 3"
    },
    "language_info": {
      "name": "python"
    }
  },
  "cells": [
    {
      "cell_type": "markdown",
      "source": [
        "1)Escreva um programa que pergunte o salário do funcionário e calcule o valor do aumento. Para salários superiores a R$ 1.250,00,"
      ],
      "metadata": {
        "id": "ChfPXqiq8Faw"
      }
    },
    {
      "cell_type": "code",
      "execution_count": 48,
      "metadata": {
        "colab": {
          "base_uri": "https://localhost:8080/"
        },
        "id": "u1Kx3aoq5V-h",
        "outputId": "ffcd2b12-64fe-4cea-c256-37b53848f24d"
      },
      "outputs": [
        {
          "output_type": "stream",
          "name": "stdout",
          "text": [
            "Digite o valor do salário: 5000\n",
            "Aumento: 10% \n",
            "Novo Salário: 5500.0\n"
          ]
        }
      ],
      "source": [
        "sal = float(input(\"Digite o valor do salário: \"))\n",
        "res = sal+(sal*0.10)\n",
        "if sal > 1250:\n",
        "  #print(\"Aumento: 10% \\nNovo Salário:\",sal+(sal*0.10))\n",
        "  print(f\"Aumento: 10% \\nNovo Salário: {res}\")\n",
        "else:\n",
        "  #print(\"Aumento: 15% \\nNovo Salário:\",sal+(sal*0.15))\n",
        "  print(f\"Aumento: 15% \\nNovo Salário: {res}\")\n"
      ]
    },
    {
      "cell_type": "markdown",
      "source": [
        "2)Escreva um programa que leia dois números e que pergunte qual operação você deseja realizar.\n",
        "Você deve poder calcular soma (+), subtração (-), multiplicação (*) e divisão (/). Exiba o resultado da operação solicitada"
      ],
      "metadata": {
        "id": "aKHGshEq8H2H"
      }
    },
    {
      "cell_type": "code",
      "source": [
        "num1= int(input(\"Digite o primeiro número: \"))\n",
        "num2 = int(input(\"Digite o segundo número: \"))\n",
        "\n",
        "\n",
        "conta=input(\"Digite a operação desejada:\")\n",
        "\n",
        "if conta == '+':\n",
        "  print(\" %i + %i = %i\"%(num1,num2,num1+num2))\n",
        "\n",
        "elif conta == '-':\n",
        "  print(\" %i - %i = %i\"%(num1,num2,num1-num2))\n",
        "\n",
        "elif conta == '/':\n",
        "  if num2 == 0:\n",
        "    print(\"Impossível dividir por zero\")\n",
        "  else:\n",
        "    print(\" %i / %i = %i\"%(num1,num2,num1/num2))\n",
        "\n",
        "elif conta == '*':\n",
        "  print(\" %i x %i = %i\"%(num1,num2,num1*num2))\n",
        "\n"
      ],
      "metadata": {
        "colab": {
          "base_uri": "https://localhost:8080/"
        },
        "id": "xg_nGH8D8OS4",
        "outputId": "136aaa50-1d3a-402b-cb98-f0d91be063ef"
      },
      "execution_count": 47,
      "outputs": [
        {
          "output_type": "stream",
          "name": "stdout",
          "text": [
            "Digite o primeiro número: 5\n",
            "Digite o segundo número: 1\n",
            "Digite a operação desejada:/\n",
            " 5 / 1 = 5\n"
          ]
        }
      ]
    },
    {
      "cell_type": "markdown",
      "source": [
        "3)Escreva um programa para aprovar o empréstimo bancário para compra de uma casa. O programa deve perguntar o valor da casa a comprar, o salário e a quantidade de anos a pagar. O valor da prestação mensal não pode ser superior a 30% do salário. Calcule o valor da prestação como sendo o valor da casa a comprar dividido pelo número de meses a pagar."
      ],
      "metadata": {
        "id": "3_Bmhd-v-Tk5"
      }
    },
    {
      "cell_type": "code",
      "source": [
        "casa = (float(input(\"Digite o valor da casa:\")))\n",
        "sal = (float(input(\"Digite o valor do salário:\")))\n",
        "anos = (int(input(\"Digite a quantidade de anos a pagar:\")))\n",
        "\n",
        "\n",
        "res = casa/(anos*12)\n",
        "\n",
        "if res > (0.30*sal):\n",
        "  print(\"\\nPrestações: R$ %.2f \\nSalário: R$ %i  \\nValor da casa: R$ %.2f \\nEmprestimo negado\"%(res,sal,casa))\n",
        "\n",
        "else:\n",
        "  print(\"\\nPrestações: R$ %.2f \\nSalário: R$ %i  \\nValor da casa: R$ %.2f \\nEmprestimo Aprovado\"%(res,sal,casa))"
      ],
      "metadata": {
        "colab": {
          "base_uri": "https://localhost:8080/"
        },
        "id": "mCcP4nW7-ZLH",
        "outputId": "69206972-4c6d-41e5-faa0-fdab14b264cf"
      },
      "execution_count": 40,
      "outputs": [
        {
          "output_type": "stream",
          "name": "stdout",
          "text": [
            "Digite o valor da casa:5000\n",
            "Digite o valor do salário:1500\n",
            "Digite a quantidade de anos a pagar:2\n",
            "\n",
            "Prestações: R$ 208.33 \n",
            "Salário: R$ 1500  \n",
            "Valor da casa: R$ 5000.00 \n",
            "Emprestimo Aprovado\n"
          ]
        }
      ]
    },
    {
      "cell_type": "markdown",
      "source": [
        "5)Faça um algoritmo para ler: quantidade atual em estoque, quantidade máxima em estoque e quantidade mínima em estoque de um produto. Calcular e escrever a quantidade média ((quantidade média = quantidade máxima + quantidade mínima)/2). Se a quantidade em estoque for maior ou igual a quantidade média escrever a mensagem 'Não efetuar compra', senão escrever a mensagem 'Efetuar compra'.  \n"
      ],
      "metadata": {
        "id": "qoGW4kVJBCIn"
      }
    },
    {
      "cell_type": "code",
      "source": [
        "quantA = int(input(\"Digite a quantidade em estoque:\"))\n",
        "quantM = int(input(\"Digite a capacidade do estoque:\"))\n",
        "quantMi = int(input(\"Digite a quantiade minima de estoque:\"))\n",
        "\n",
        "\n",
        "quantMed = (quantM+quantMi)/2\n",
        "\n",
        "if quantA > quantMed:\n",
        "\n",
        "  print(\"Não efetuar compra\")\n",
        "\n",
        "elif quantA == quantMed:\n",
        "  print(\"Não efetuar compra\")\n",
        "\n",
        "else:\n",
        "  print(\"Efetuar compra\")"
      ],
      "metadata": {
        "colab": {
          "base_uri": "https://localhost:8080/"
        },
        "id": "tvFoY0q2BJwG",
        "outputId": "f920b333-c67a-467f-9168-d350e8a81e69"
      },
      "execution_count": 39,
      "outputs": [
        {
          "output_type": "stream",
          "name": "stdout",
          "text": [
            "Digite a quantidade em estoque:50\n",
            "Digite a capacidade do estoque:50\n",
            "Digite a quantiade minima de estoque:25\n",
            "Não efetuar compra\n"
          ]
        }
      ]
    }
  ]
}