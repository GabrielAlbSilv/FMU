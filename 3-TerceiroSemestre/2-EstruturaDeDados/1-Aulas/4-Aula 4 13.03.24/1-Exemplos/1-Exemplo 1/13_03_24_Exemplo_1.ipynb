{
  "nbformat": 4,
  "nbformat_minor": 0,
  "metadata": {
    "colab": {
      "provenance": []
    },
    "kernelspec": {
      "name": "python3",
      "display_name": "Python 3"
    },
    "language_info": {
      "name": "python"
    }
  },
  "cells": [
    {
      "cell_type": "code",
      "execution_count": null,
      "metadata": {
        "id": "OI7SpVMPvRzP"
      },
      "outputs": [],
      "source": []
    },
    {
      "cell_type": "markdown",
      "source": [
        "Estruturas de Decisão\n",
        "\n",
        " -Sempre prestar atenção na identação, comandos de reposta ao if devem\n",
        "          estar sempre abaixo do if e com espaço\n",
        "\n",
        "-Estrutura de decisão composta:\n",
        "          \n",
        "          if variável > 10:\n",
        "\n",
        "               print(\"O número é maior que 10!\")\n",
        "          else:\n",
        "   \n",
        "              print(\"O número é menor ou igual a 10\")\n",
        "\n",
        "Enter+backspace: Fecha if\n"
      ],
      "metadata": {
        "id": "2EL4iW3dythZ"
      }
    },
    {
      "cell_type": "code",
      "source": [
        "num = 100\n",
        "\n",
        "if num > 10:\n",
        "  print(\"O número é maior que 10!\")\n",
        "else:\n",
        "  print(\"O número é menor ou igual a 10\")\n",
        "\n"
      ],
      "metadata": {
        "colab": {
          "base_uri": "https://localhost:8080/"
        },
        "id": "74BhpnY9ziU3",
        "outputId": "805b72dc-bc33-45cf-f0da-ed6b64c3f44e"
      },
      "execution_count": 7,
      "outputs": [
        {
          "output_type": "stream",
          "name": "stdout",
          "text": [
            "O número é maior que 10!\n"
          ]
        }
      ]
    },
    {
      "cell_type": "markdown",
      "source": [
        "-Estrutura Encadeada (else if)\n",
        "\n",
        "            elif numm==10:\n",
        "              print(\"O número é igual a 10\")\n",
        "\n",
        "- elif = else + if, estrutura de decisão encadeada"
      ],
      "metadata": {
        "id": "JcA1Q-gO3EQp"
      }
    },
    {
      "cell_type": "code",
      "source": [
        "num = int(input(\"Digite um número: \"))\n",
        "\n",
        "if num >10:\n",
        "  print(\"O número %i é maior que 10\" %num)\n",
        "elif num==10:\n",
        "  print(\"O número %i é igual a 10\" %num)\n",
        "else:\n",
        "  print(\"O número %i é menor que 10\" %num)\n",
        "\n"
      ],
      "metadata": {
        "colab": {
          "base_uri": "https://localhost:8080/"
        },
        "id": "Fnb_TOoR3LOT",
        "outputId": "b8315911-9b54-47ed-d1cf-7a8227ce68ea"
      },
      "execution_count": 19,
      "outputs": [
        {
          "output_type": "stream",
          "name": "stdout",
          "text": [
            "Digite um número: 5\n",
            "O número 5 é menor que 10\n"
          ]
        }
      ]
    }
  ]
}