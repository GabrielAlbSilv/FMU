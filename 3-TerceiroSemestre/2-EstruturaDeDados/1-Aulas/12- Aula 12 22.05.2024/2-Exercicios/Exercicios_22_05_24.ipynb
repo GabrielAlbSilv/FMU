{
  "nbformat": 4,
  "nbformat_minor": 0,
  "metadata": {
    "colab": {
      "provenance": []
    },
    "kernelspec": {
      "name": "python3",
      "display_name": "Python 3"
    },
    "language_info": {
      "name": "python"
    }
  },
  "cells": [
    {
      "cell_type": "markdown",
      "source": [
        "1)Faça um programa que possua um vetor denominado A que armazene 6 numeros inteiros. O programa deve executar os seguintes passos: (a) Atribua os seguintes valores a esse vetor: 1, 0, 5, -2, -5, 7. (b) Armazene em uma variavel inteira (simples) a soma entre os valores das posições A[0], A[1] e A[5] do vetor e mostre na tela esta soma. (c) Modifique o vetor na posição 4, atribuindo a esta posição ao o valor 100. ˜ (d) Mostre na tela cada valor do vetor A, um em cada linha.\n",
        "\n",
        "2)Crie um programa que leia 6 valores inteiros e, em seguida, mostre na tela os valores lidos.\n",
        "\n",
        "3)Faça um programa que preencha um vetor com 10 numeros reais, calcule e mostre a quantidade de numeros negativos e a soma dos números positivos desse vetor."
      ],
      "metadata": {
        "id": "nxJdv8ZxhEVh"
      }
    },
    {
      "cell_type": "code",
      "source": [
        "#Exercicio 1\n",
        "import numpy as np\n",
        "vet = np.array(6)\n",
        "\n",
        "vet = np.array([1, 0, 5, -2, -5, 7])\n",
        "\n",
        "soma = vet[0]+vet[1]+vet[5]\n",
        "print(f\"Vetor: {vet}\")\n",
        "print(f\"Soma: {soma}\")\n",
        "vet[4] = 100\n",
        "\n",
        "for numero in vet:\n",
        "    print(numero)"
      ],
      "metadata": {
        "colab": {
          "base_uri": "https://localhost:8080/"
        },
        "id": "us_DetGchFZi",
        "outputId": "40be6ebb-1e1a-4bc0-9a1e-80e4c0b80582"
      },
      "execution_count": 15,
      "outputs": [
        {
          "output_type": "stream",
          "name": "stdout",
          "text": [
            "Vetor: [ 1  0  5 -2 -5  7]\n",
            "Soma: 8\n",
            "1\n",
            "0\n",
            "5\n",
            "-2\n",
            "100\n",
            "7\n"
          ]
        }
      ]
    },
    {
      "cell_type": "code",
      "source": [
        "#Exercicio 2\n",
        "import numpy as np\n",
        "vet = np.array([])\n",
        "\n",
        "\n",
        "for num in range(6):\n",
        "  vet = np.append(vet,int(input(f\"{num+1}-Digite um número:\")))\n",
        "\n",
        "\n",
        "print(vet)\n"
      ],
      "metadata": {
        "colab": {
          "base_uri": "https://localhost:8080/"
        },
        "id": "y4S3ywBAjx7g",
        "outputId": "2ff6fe51-393c-4745-c68d-d2ce244f047a"
      },
      "execution_count": 42,
      "outputs": [
        {
          "output_type": "stream",
          "name": "stdout",
          "text": [
            "1-Digite um número:1\n",
            "2-Digite um número:2\n",
            "3-Digite um número:3\n",
            "4-Digite um número:4\n",
            "5-Digite um número:5\n",
            "6-Digite um número:6\n",
            "[1. 2. 3. 4. 5. 6.]\n"
          ]
        }
      ]
    },
    {
      "cell_type": "code",
      "source": [
        "#Exercicio 3\n",
        "import numpy as np\n",
        "vet = np.array([])\n",
        "vetN = np.array([])\n",
        "vetP = np.array([])\n",
        "val = 0\n",
        "\n",
        "for num in range(10):\n",
        "  val = int(input(f\"{num+1}-Digite um número:\"))\n",
        "  vet =  np.append(vet, val)\n",
        "  if (val < 0):\n",
        "    vetN =  np.append(vetN, val)\n",
        "    print(\"Número negativo!\")\n",
        "  elif (val >= 0):\n",
        "    vetP =  np.append(vetP, val)\n",
        "    print(\"Número positivo\")\n",
        "\n",
        "print(f\"Vetor principal: {vet}\")\n",
        "print(f\"Soma de todos os números: {sum(vet)}\")\n",
        "print(f\"Vetor positivo: {vetP}\")\n",
        "print(f\"Soma dos números positivos: {sum(vetP)}\")\n",
        "print(f\"Vetor Negativo: {vetN}\")\n",
        "print(f\"Soma dos números negativos: {sum(vetN)}\")\n"
      ],
      "metadata": {
        "colab": {
          "base_uri": "https://localhost:8080/"
        },
        "id": "1zPVk6oOkv1T",
        "outputId": "50eaf15a-b876-4cf4-fdb1-e3030c3c4fbb"
      },
      "execution_count": 56,
      "outputs": [
        {
          "output_type": "stream",
          "name": "stdout",
          "text": [
            "1-Digite um número:-2\n",
            "Número negativo!\n",
            "2-Digite um número:-1\n",
            "Número negativo!\n",
            "3-Digite um número:1\n",
            "Número positivo\n",
            "4-Digite um número:2\n",
            "Número positivo\n",
            "Vetor principal: [-2. -1.  1.  2.]\n",
            "Soma de todos os números: 0.0\n",
            "Vetor positivo: [1. 2.]\n",
            "Soma dos números positivos: 3.0\n",
            "Vetor Negativo: [-2. -1.]\n",
            "Soma dos números negativos: -3.0\n"
          ]
        }
      ]
    }
  ]
}