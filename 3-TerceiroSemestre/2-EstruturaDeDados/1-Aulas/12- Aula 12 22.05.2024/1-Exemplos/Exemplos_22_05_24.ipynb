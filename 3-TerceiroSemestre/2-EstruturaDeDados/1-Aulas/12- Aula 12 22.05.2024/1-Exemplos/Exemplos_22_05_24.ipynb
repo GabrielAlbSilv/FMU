{
  "nbformat": 4,
  "nbformat_minor": 0,
  "metadata": {
    "colab": {
      "provenance": []
    },
    "kernelspec": {
      "name": "python3",
      "display_name": "Python 3"
    },
    "language_info": {
      "name": "python"
    }
  },
  "cells": [
    {
      "cell_type": "code",
      "execution_count": 3,
      "metadata": {
        "colab": {
          "base_uri": "https://localhost:8080/"
        },
        "id": "FBTvYe7GJ2PR",
        "outputId": "d1e36719-454e-4256-c3f0-f2183fe47bbf"
      },
      "outputs": [
        {
          "output_type": "stream",
          "name": "stdout",
          "text": [
            "<class 'numpy.ndarray'>\n",
            "Lista: [10, 11, 12, 13, 14]\n",
            "Vetor: [10 11 12 13 14]\n"
          ]
        }
      ],
      "source": [
        "#Vetor = estrutura especial\n",
        "#Armazena dados do mesmo tipo\n",
        "#Utiliza a biblioteca numpy\n",
        "\n",
        "import numpy as np\n",
        "#\"np\" - abreviação de np\n",
        "\n",
        "#Criando uma lista para transformar em vetor\n",
        "lista = [10,11,12,13,14]\n",
        "vetor = np.array(lista)\n",
        "\n",
        "print(type(vetor))\n",
        "print(f\"Lista: {lista}\")\n",
        "print(f\"Vetor: {vetor}\")\n",
        "\n",
        "#Convertendo vetor para lista\n",
        "lista2=list(vetor)\n",
        "vetor = np.array(lista2)"
      ]
    },
    {
      "cell_type": "code",
      "source": [
        "import numpy as np\n",
        "\n",
        "lista = ['a','b','c','d','e']\n",
        "vetor = np.array(lista)\n",
        "\n",
        "print(f\"Vetor: {vetor}\")\n",
        "print(f\"Posição 0: {vetor[0]}\")\n",
        "print(f\"Posição 4: {vetor[4]}\")\n",
        "print(f\"Posição -1: {vetor[-1]}\")\n",
        "print(f\"Posição -2: {vetor[-2]}\")\n"
      ],
      "metadata": {
        "colab": {
          "base_uri": "https://localhost:8080/"
        },
        "id": "5I5jx8fAOMDY",
        "outputId": "98ddaa70-48a1-4455-9ccc-6b4a825336ce"
      },
      "execution_count": 4,
      "outputs": [
        {
          "output_type": "stream",
          "name": "stdout",
          "text": [
            "Vetor: ['a' 'b' 'c' 'd' 'e']\n",
            "Posição 0: a\n",
            "Posição 4: e\n",
            "Posição -1: e\n",
            "Posição -2: d\n"
          ]
        }
      ]
    },
    {
      "cell_type": "code",
      "source": [
        "import numpy as np\n",
        "\n",
        "tupla=(10,20,30,40)\n",
        "vetor=np.array(tupla)\n",
        "\n",
        "print(\"Imprimindo posições do vetor:\")\n",
        "for numero in range(len(vetor)):\n",
        "    print(numero)\n",
        "\n",
        "print(\"Imprimindo conteúdo do vetor:\")\n",
        "for numero in vetor:\n",
        "    print(numero)"
      ],
      "metadata": {
        "colab": {
          "base_uri": "https://localhost:8080/"
        },
        "id": "7-AiVqNJPlUI",
        "outputId": "c28117ee-0a1a-4454-bcdc-708aadd5f21b"
      },
      "execution_count": 9,
      "outputs": [
        {
          "output_type": "stream",
          "name": "stdout",
          "text": [
            "Imprimindo posições do vetor:\n",
            "0\n",
            "1\n",
            "2\n",
            "3\n",
            "Imprimindo conteúdo do vetor:\n",
            "10\n",
            "20\n",
            "30\n",
            "40\n"
          ]
        }
      ]
    },
    {
      "cell_type": "code",
      "source": [
        "import numpy as np\n",
        "#Criando vetor vazio\n",
        "vetor=np.array([])\n",
        "\n",
        "for num in range(5):\n",
        "  vetor = np.append(vetor,int(input(\"Digite um número:\")))\n",
        "\n",
        "print(f\"Vetor: {vetor}\")\n",
        "#Ordenando vetor\n",
        "vetor.sort()\n",
        "print(f\"Vetor ordenado: {vetor}\")\n",
        "#Invertendo os INDICES de um vetor\n",
        "np.flip(vetor)\n",
        "print(f\"Vetor ordenado ao contrário: {vetor}\")\n"
      ],
      "metadata": {
        "colab": {
          "base_uri": "https://localhost:8080/"
        },
        "id": "o4U13c0qSnmv",
        "outputId": "cbfcbea1-0021-40a4-d26e-00be52d73f4b"
      },
      "execution_count": 22,
      "outputs": [
        {
          "output_type": "stream",
          "name": "stdout",
          "text": [
            "Digite um número:5\n",
            "Digite um número:4\n",
            "Digite um número:3\n",
            "Digite um número:2\n",
            "Digite um número:1\n",
            "Vetor: [5. 4. 3. 2. 1.]\n",
            "Vetor ordenado: [1. 2. 3. 4. 5.]\n",
            "Vetor ordenado ao contrário: [5. 4. 3. 2. 1.]\n"
          ]
        }
      ]
    },
    {
      "cell_type": "code",
      "source": [
        "import numpy as np\n",
        "\n",
        "lista = [1,2,3,4,5]\n",
        "vetor = np.array(lista)\n",
        "\n",
        "print(f\"Vetor: {vetor}\")\n",
        "print(f\"Soma das posições 2 e 3: {vetor[2]+vetor[3]}\")"
      ],
      "metadata": {
        "colab": {
          "base_uri": "https://localhost:8080/"
        },
        "id": "gcdn6q2gXxpG",
        "outputId": "9b063029-a007-4593-96b8-51c7f0d5f535"
      },
      "execution_count": 19,
      "outputs": [
        {
          "output_type": "stream",
          "name": "stdout",
          "text": [
            "Vetor: [1 2 3 4 5]\n",
            "Soma: 7\n"
          ]
        }
      ]
    },
    {
      "cell_type": "code",
      "source": [
        "import numpy as np\n",
        "\n",
        "vetor = np.array([1,2,3,4,5])\n",
        "print(vetor)\n",
        "#Inserindo valores no vetor\n",
        "vetor = np.append(vetor, 100)\n",
        "print(vetor)\n",
        "vetor = np.append(vetor, 0)\n",
        "print(vetor)\n",
        "\n",
        "#Excluindo valores de um vetor\n",
        "#Excluindo valor da posição 0\n",
        "vetor = np.delete(vetor,0)\n",
        "print(vetor)\n",
        "\n",
        "#Alterando valor de uma posição\n",
        "vetor[0]= 200\n",
        "print(vetor)"
      ],
      "metadata": {
        "colab": {
          "base_uri": "https://localhost:8080/"
        },
        "id": "rhRC4t3LZLCt",
        "outputId": "478a7471-b29d-454a-a732-4b5d5db44c25"
      },
      "execution_count": 27,
      "outputs": [
        {
          "output_type": "stream",
          "name": "stdout",
          "text": [
            "[1 2 3 4 5]\n",
            "[  1   2   3   4   5 100]\n",
            "[  1   2   3   4   5 100   0]\n",
            "[  2   3   4   5 100   0]\n",
            "[200   3   4   5 100   0]\n"
          ]
        }
      ]
    },
    {
      "cell_type": "code",
      "source": [
        "import numpy as np\n",
        "\n",
        "vetor = np.array([1,2,3,4,5])\n",
        "print(f\"Vetor: {vetor}\")\n",
        "print(f\"Maior valor: {max(vetor)}\")\n",
        "print(f\"Menor valor: {min(vetor)}\")\n",
        "print(f\"Soma dos valores: {sum(vetor)}\")\n",
        "print(f\"Indices do vetor: {len(vetor)}\")\n",
        "print(f\"Média: {(sum(vetor))/len(vetor)}\")\n",
        "print(f\"Média-Outra forma: {np.mean(vetor)}\")\n",
        "print(f\"Raíz quadrada: {np.sqrt(vetor)}\")"
      ],
      "metadata": {
        "colab": {
          "base_uri": "https://localhost:8080/"
        },
        "id": "hS8D1Ogwbghl",
        "outputId": "0ea1dcc5-ef07-4400-b1ed-4652456b3203"
      },
      "execution_count": 29,
      "outputs": [
        {
          "output_type": "stream",
          "name": "stdout",
          "text": [
            "Vetor: [1 2 3 4 5]\n",
            "Maior valor: 5\n",
            "Menor valor: 1\n",
            "Soma dos valores: 15\n",
            "Indices do vetor: 5\n",
            "Média: 3.0\n",
            "Média-Outra forma: 3.0\n",
            "Raíz quadrada: [1.         1.41421356 1.73205081 2.         2.23606798]\n"
          ]
        }
      ]
    },
    {
      "cell_type": "code",
      "source": [
        "import numpy as np\n",
        "\n",
        "\n",
        "vetor = np.array([1,2,3,])\n",
        "vetor2 = np.array([4,5,6])\n",
        "#Somando cada indice do vet1 com o indice\n",
        "#correspondente no vet2\n",
        "vetor3 = vetor+vetor2\n",
        "vetor4 = vetor-vetor2\n",
        "vetor5 = vetor*vetor2\n",
        "print(vetor)\n",
        "print(vetor2)\n",
        "print(vetor3)\n",
        "print(vetor4)\n",
        "print(vetor5)\n",
        "\n"
      ],
      "metadata": {
        "colab": {
          "base_uri": "https://localhost:8080/"
        },
        "id": "DESXekZNffOT",
        "outputId": "4f478cdb-6445-4e78-cfd9-0f408d741dc2"
      },
      "execution_count": 31,
      "outputs": [
        {
          "output_type": "stream",
          "name": "stdout",
          "text": [
            "[1 2 3]\n",
            "[4 5 6]\n",
            "[5 7 9]\n",
            "[-3 -3 -3]\n",
            "[ 4 10 18]\n"
          ]
        }
      ]
    }
  ]
}