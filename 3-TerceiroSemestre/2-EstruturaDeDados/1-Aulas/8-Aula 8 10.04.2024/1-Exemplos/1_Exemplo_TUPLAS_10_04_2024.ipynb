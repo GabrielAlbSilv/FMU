{
  "nbformat": 4,
  "nbformat_minor": 0,
  "metadata": {
    "colab": {
      "provenance": []
    },
    "kernelspec": {
      "name": "python3",
      "display_name": "Python 3"
    },
    "language_info": {
      "name": "python"
    }
  },
  "cells": [
    {
      "cell_type": "markdown",
      "source": [
        "Tupla\n",
        "\n",
        "-Um tipo de estrutura de dados\n",
        "\n",
        "-Imutável, depois de definidos os dados não podem ser modifiicados\n",
        "\n",
        "-Heterogênia, aceita diferentes tipos de dados"
      ],
      "metadata": {
        "id": "X--m7uk49A9g"
      }
    },
    {
      "cell_type": "code",
      "source": [
        "#Tupla\n",
        "numeros=(1,2,3)\n",
        "#Imprimindo a tupla\n",
        "print(numeros)\n",
        "#Verificando o tipo de estrutura\n",
        "type(numeros)\n",
        "#Acessando posição especifica da tupla\n",
        "print(numeros[0])"
      ],
      "metadata": {
        "colab": {
          "base_uri": "https://localhost:8080/"
        },
        "id": "m4BRORLz9JBA",
        "outputId": "b85ad892-19f8-415b-c5b3-dc2ee4f60ee6"
      },
      "execution_count": null,
      "outputs": [
        {
          "output_type": "stream",
          "name": "stdout",
          "text": [
            "(1, 2, 3)\n",
            "1\n"
          ]
        }
      ]
    },
    {
      "cell_type": "code",
      "source": [
        "estados = ('SP','São Paulo', 'RJ', 'Rio de Janeiro')\n",
        "print(estados)\n",
        "valores = (1,2,3,4,'Nome','Idade','Sexo')\n",
        "print(valores)"
      ],
      "metadata": {
        "colab": {
          "base_uri": "https://localhost:8080/"
        },
        "id": "u--Gl-5F9zKx",
        "outputId": "e377b61c-803f-4c9c-9915-6cbf304c61f4"
      },
      "execution_count": null,
      "outputs": [
        {
          "output_type": "stream",
          "name": "stdout",
          "text": [
            "('SP', 'São Paulo', 'RJ', 'Rio de Janeiro')\n",
            "(1, 2, 3, 4, 'Nome', 'Idade', 'Sexo')\n"
          ]
        }
      ]
    },
    {
      "cell_type": "code",
      "source": [
        "#Concatenando uma tupla\n",
        "estados = ('SP','São Paulo', 'RJ', 'Rio de Janeiro')\n",
        "print(f\"{estados[1]} - {estados[0]}\")\n",
        "print(f\"{estados[3]} - {estados[2]}\")\n"
      ],
      "metadata": {
        "colab": {
          "base_uri": "https://localhost:8080/"
        },
        "id": "FeVChcCq_BWo",
        "outputId": "776473d9-dec1-4ad5-cd5c-f95b3d4a1147"
      },
      "execution_count": null,
      "outputs": [
        {
          "output_type": "stream",
          "name": "stdout",
          "text": [
            "São Paulo - SP\n",
            "Rio de Janeiro - RJ\n"
          ]
        }
      ]
    },
    {
      "cell_type": "code",
      "source": [
        "estados = ('SP','São Paulo', 'RJ', 'Rio de Janeiro')\n",
        "#Acessando o último valor da tupla\n",
        "print(estados[-1])\n",
        "\n",
        "#Acessando posições 1 e 2\n",
        "print(estados[1:3])\n",
        "\n",
        "#Acessando todas as posições a partir da 1\n",
        "print(estados[1:])\n",
        "\n",
        "#Acessando todas as posições antes da posição 2\n",
        "print(estados[:2])"
      ],
      "metadata": {
        "colab": {
          "base_uri": "https://localhost:8080/"
        },
        "id": "KEXbou8RCo2G",
        "outputId": "f5ba0fca-5a20-48b7-bbd5-aba940ef4dff"
      },
      "execution_count": null,
      "outputs": [
        {
          "output_type": "stream",
          "name": "stdout",
          "text": [
            "Rio de Janeiro\n",
            "('São Paulo', 'RJ')\n",
            "('São Paulo', 'RJ', 'Rio de Janeiro')\n",
            "('SP', 'São Paulo')\n"
          ]
        }
      ]
    },
    {
      "cell_type": "code",
      "source": [
        "#Atualizando dados de uma tupla\n",
        "estados = ('SP','São Paulo', 'RJ', 'Rio de Janeiro')\n",
        "print(estados)\n",
        "print(type(estados))\n",
        "\n",
        "\n",
        "#Tupla é imutável, então é necesserário converte-la\n",
        "#Convertendo tupla para lista\n",
        "atualiza = list(estados)\n",
        "\n",
        "#Modificando  valores da lista\n",
        "\n",
        "#Inserindo dados no começo da lista\n",
        "atualiza.insert(0,\"MG\")\n",
        "atualiza.insert(1,\"Minas Gerais\")\n",
        "\n",
        "#Inserindo dados no final da lista\n",
        "atualiza.append(\"ES\")\n",
        "atualiza.append(\"Espirito Santo\")\n",
        "\n",
        "#Alterando dados da lista\n",
        "atualiza[2] = \"RS\"\n",
        "atualiza[3] = \"Rio Grande do Sul\"\n",
        "\n",
        "#Convertando lista para tupla\n",
        "estados = tuple(atualiza)\n",
        "print(estados)\n",
        "print(type(estados))"
      ],
      "metadata": {
        "colab": {
          "base_uri": "https://localhost:8080/"
        },
        "id": "cb3yguhQCynV",
        "outputId": "071086df-165d-4cc2-88dc-d56c54a93151"
      },
      "execution_count": null,
      "outputs": [
        {
          "output_type": "stream",
          "name": "stdout",
          "text": [
            "('SP', 'São Paulo', 'RJ', 'Rio de Janeiro')\n",
            "<class 'tuple'>\n",
            "('MG', 'Minas Gerais', 'RS', 'Rio Grande do Sul', 'RJ', 'Rio de Janeiro', 'ES', 'Espirito Santo')\n",
            "<class 'tuple'>\n"
          ]
        }
      ]
    },
    {
      "cell_type": "code",
      "source": [
        "#Utilizando métodos na tupla\n",
        "estados = ('SP','São Paulo', 'RJ', 'Rio de Janeiro')\n",
        "\n",
        "#Contando quantas vezes o valor \"São Paulo\" está inserido na tupla\n",
        "print(estados.count('São Paulo'))\n",
        "\n",
        "#Contando quantos valores estão inseridos na tupla\n",
        "print(len(estados))"
      ],
      "metadata": {
        "colab": {
          "base_uri": "https://localhost:8080/"
        },
        "id": "cS_qQzESGfX1",
        "outputId": "8baa5fa9-f189-46e6-eb1b-da98ee0f60f8"
      },
      "execution_count": null,
      "outputs": [
        {
          "output_type": "stream",
          "name": "stdout",
          "text": [
            "1\n",
            "4\n"
          ]
        }
      ]
    },
    {
      "cell_type": "code",
      "source": [
        "#Unindo duas tuplas\n",
        "estados = ('SP','São Paulo', 'RJ', 'Rio de Janeiro')\n",
        "cidades = ('Guarulhos', 'Angra dos Reis')\n",
        "print(estados)\n",
        "print(cidades)\n",
        "#Unindo duas tuplas\n",
        "juntas = estados+cidades\n",
        "print(juntas)"
      ],
      "metadata": {
        "colab": {
          "base_uri": "https://localhost:8080/"
        },
        "id": "-KcIfTSwHlLF",
        "outputId": "830dd4ba-6cb7-4ad8-a874-d3c1b6514a87"
      },
      "execution_count": null,
      "outputs": [
        {
          "output_type": "stream",
          "name": "stdout",
          "text": [
            "('SP', 'São Paulo', 'RJ', 'Rio de Janeiro')\n",
            "('Guarulhos', 'Angra dos Reis')\n",
            "('SP', 'São Paulo', 'RJ', 'Rio de Janeiro', 'Guarulhos', 'Angra dos Reis')\n"
          ]
        }
      ]
    },
    {
      "cell_type": "code",
      "source": [
        "#Inserindo dados em um tupla\n",
        "numeros=()\n",
        "for i in range(5):\n",
        "  x = int(input(f\"{i+1}-Digite um número: \"))\n",
        "  numeros = numeros+(x,)\n",
        "\n",
        "print(numeros)"
      ],
      "metadata": {
        "colab": {
          "base_uri": "https://localhost:8080/"
        },
        "id": "YDXZfWjkJlWp",
        "outputId": "44a1ca34-9e41-4361-cfdc-79d91915d51a"
      },
      "execution_count": null,
      "outputs": [
        {
          "output_type": "stream",
          "name": "stdout",
          "text": [
            "1-Digite um número: 1\n",
            "2-Digite um número: 2\n",
            "3-Digite um número: 3\n",
            "4-Digite um número: 4\n",
            "5-Digite um número: 5\n",
            "(1, 2, 3, 4, 5)\n"
          ]
        }
      ]
    }
  ]
}