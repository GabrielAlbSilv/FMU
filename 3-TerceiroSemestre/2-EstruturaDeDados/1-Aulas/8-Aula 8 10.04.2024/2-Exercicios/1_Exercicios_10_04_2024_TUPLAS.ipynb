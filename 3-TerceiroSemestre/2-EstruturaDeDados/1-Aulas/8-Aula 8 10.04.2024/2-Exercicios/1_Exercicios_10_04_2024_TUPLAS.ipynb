{
  "nbformat": 4,
  "nbformat_minor": 0,
  "metadata": {
    "colab": {
      "provenance": []
    },
    "kernelspec": {
      "name": "python3",
      "display_name": "Python 3"
    },
    "language_info": {
      "name": "python"
    }
  },
  "cells": [
    {
      "cell_type": "markdown",
      "source": [
        "1-Faça um programa que leia duas listas e gere um terceira coms os elementos das duas primeiras\n",
        "\n",
        "\n",
        "2-Crie uma tupla preenchida com os 10 primeiros colocados do campeonato paulista de futebol de 2024, em ordem de colocação, depois:\n",
        "\n",
        "        - Os 3 primeiros colocados\n",
        "        - Os 3 últimos colocados\n",
        "        - Os times em ordem alfabética\n",
        "        - A posição que o Santos terminou no campeonato\n",
        "\n",
        "\n",
        "3-Carregar um tupla com os dias da semana. Em seguida peça para o usuário para digiter um número de 1 a 7 e então mostre o dia da semana."
      ],
      "metadata": {
        "id": "0ZylzHewK1qd"
      }
    },
    {
      "cell_type": "code",
      "execution_count": null,
      "metadata": {
        "colab": {
          "base_uri": "https://localhost:8080/"
        },
        "id": "YyE4YI4kI3y4",
        "outputId": "a5a59a1f-9085-471a-b0dc-e8b85e0a08eb"
      },
      "outputs": [
        {
          "output_type": "stream",
          "name": "stdout",
          "text": [
            "Números pares: [0, 2, 4, 6, 8, 10]\n",
            "Números impares: [1, 3, 5, 9, 11]\n",
            "União das listas: [0, 2, 4, 6, 8, 10, 1, 3, 5, 9, 11]\n"
          ]
        }
      ],
      "source": [
        "#Exercicio 1\n",
        "par = [0,2,4,6,8,10]\n",
        "impar = [1,3,5,9,11]\n",
        "print(f\"Números pares: {par}\")\n",
        "print(f\"Números impares: {impar}\")\n",
        "numeros = par+impar\n",
        "print(f\"União das listas: {numeros}\")\n"
      ]
    },
    {
      "cell_type": "code",
      "source": [
        "#Exercicio 2\n",
        "\n",
        "times = ('Palmeiras','Santos','Bragantino','São Paulo','Novorizontino','São Bernardo','Inter de Limeira', 'Ponte Preta','Agua Santa','Corinthians')\n",
        "i = 0\n",
        "print(\"Classificação:\")\n",
        "for i in range(10):\n",
        "  print(f\"{i+1} - {times[i]}\")\n",
        "\n",
        "print(f\"Lideres de classificação: {times[0:3]}\")\n",
        "print(f\"Últimos colocados : {times[7:10]}\")\n",
        "print(f\"Ordem alfabética dos times: {sorted(times)}\")\n",
        "print(f\"Posição do Santos: {times.index('Santos')+1}\")\n"
      ],
      "metadata": {
        "colab": {
          "base_uri": "https://localhost:8080/"
        },
        "id": "b90E_9GwNA66",
        "outputId": "362a6d2b-6a6b-48f1-afcc-d2a512df2b1c"
      },
      "execution_count": null,
      "outputs": [
        {
          "output_type": "stream",
          "name": "stdout",
          "text": [
            "Classificação:\n",
            "1 - Palmeiras\n",
            "2 - Santos\n",
            "3 - Bragantino\n",
            "4 - São Paulo\n",
            "5 - Novorizontino\n",
            "6 - São Bernardo\n",
            "7 - Inter de Limeira\n",
            "8 - Ponte Preta\n",
            "9 - Agua Santa\n",
            "10 - Corinthians\n",
            "Lideres de classificação: ('Palmeiras', 'Santos', 'Bragantino')\n",
            "Últimos colocados : ('Ponte Preta', 'Agua Santa', 'Corinthians')\n",
            "Ordem alfabética dos times: ['Agua Santa', 'Bragantino', 'Corinthians', 'Inter de Limeira', 'Novorizontino', 'Palmeiras', 'Ponte Preta', 'Santos', 'São Bernardo', 'São Paulo']\n",
            "Posição do Santos: 2\n"
          ]
        }
      ]
    },
    {
      "cell_type": "code",
      "source": [
        "#Exercicio 3\n",
        "\n",
        "semana = ('Domingo','Segunda','Terça','Quarta','Quinta','Sexta','Sabado')\n",
        "x  = int(input(\"Digite um número: \"))\n",
        "print(f\"Dia da semana: {semana[x-1]}\")\n"
      ],
      "metadata": {
        "colab": {
          "base_uri": "https://localhost:8080/"
        },
        "id": "dH3O8tsaSV9J",
        "outputId": "d58fe962-5085-458c-f8d8-b48fee8d2ff2"
      },
      "execution_count": null,
      "outputs": [
        {
          "output_type": "stream",
          "name": "stdout",
          "text": [
            "Digite um número: 1\n",
            "Dia da semana: Domingo\n"
          ]
        }
      ]
    }
  ]
}