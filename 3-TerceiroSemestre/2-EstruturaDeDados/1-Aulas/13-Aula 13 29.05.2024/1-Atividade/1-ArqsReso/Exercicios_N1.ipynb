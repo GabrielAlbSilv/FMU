{
  "nbformat": 4,
  "nbformat_minor": 0,
  "metadata": {
    "colab": {
      "provenance": []
    },
    "kernelspec": {
      "name": "python3",
      "display_name": "Python 3"
    },
    "language_info": {
      "name": "python"
    }
  },
  "cells": [
    {
      "cell_type": "code",
      "execution_count": null,
      "metadata": {
        "colab": {
          "base_uri": "https://localhost:8080/"
        },
        "id": "mJuKYbHKSo8t",
        "outputId": "3516beb4-2573-4c89-9ec5-8d80ee14fea1"
      },
      "outputs": [
        {
          "output_type": "stream",
          "name": "stdout",
          "text": [
            "Telefonou para a vítima?: sim\n",
            "Esteve no local do crime?sim\n",
            "Mora perto da vítima?: sim\n",
            "Devia para a vítima?sim\n",
            "Já trabalhou com a vítima?sim\n",
            "Classificação: Assassino\n",
            "Total de respostas: 5\n",
            "Respostas: ['sim', 'sim', 'sim', 'sim', 'sim']\n"
          ]
        }
      ],
      "source": [
        "#Exercicio 1\n",
        "resp = []\n",
        "cont = 0\n",
        "\n",
        "resp1 = input(\"Telefonou para a vítima?: \")\n",
        "resp.append(resp1)\n",
        "if resp1 == \"sim\":\n",
        "  cont = cont+1\n",
        "\n",
        "resp1 = input(\"Esteve no local do crime?\")\n",
        "resp.append(resp1)\n",
        "if resp1 == \"sim\":\n",
        "  cont = cont+1\n",
        "\n",
        "\n",
        "resp1 = input(\"Mora perto da vítima?: \")\n",
        "resp.append(resp1)\n",
        "if resp1 == \"sim\":\n",
        "   cont = cont+1\n",
        "\n",
        "resp1 = input(\"Devia para a vítima?\")\n",
        "resp.append(resp1)\n",
        "if resp1 == \"sim\":\n",
        "   cont = cont+1\n",
        "\n",
        "resp1 = input(\"Já trabalhou com a vítima?\")\n",
        "resp.append(resp1)\n",
        "\n",
        "if resp1 == \"sim\":\n",
        "   cont = cont+1\n",
        "\n",
        "\n",
        "if cont <= 1:\n",
        "  print(\"Classificação: Inocente\")\n",
        "\n",
        "elif cont == 2:\n",
        "\n",
        "  print(\"Classificação: Suspeito\")\n",
        "\n",
        "elif cont < 5:\n",
        "  print(\"Classificação: Cúmplice\")\n",
        "\n",
        "elif cont == 5:\n",
        "  print(\"Classificação: Assassino\")\n",
        "\n",
        "\n",
        "print(f\"Total de respostas: {len(resp)}\")\n",
        "print(f\"Respostas: {resp}\")\n",
        "\n",
        "\n",
        "\n",
        "\n",
        "\n",
        "\n"
      ]
    },
    {
      "cell_type": "code",
      "source": [
        "#Exercicio 2\n",
        "import numpy as np\n",
        "#\"np\" - abreviação de np\n",
        "vetor = np.array([])\n",
        "vetimpar = np.array([])\n",
        "vetpar = np.array([])\n",
        "contimp = 0\n",
        "\n",
        "\n",
        "for num in range(10):\n",
        "  vetor = np.append(vetor,int(input(f\"{num+1}-Digite um número:\")))\n",
        "  if vetor[num] % 2 == 0:\n",
        "    vetpar = np.append(vetpar, vetor[num])\n",
        "    print(\"par!\")\n",
        "  else:\n",
        "    print(\"impar!\")\n",
        "    vetimpar = np.append(vetimpar, vetor[num])\n",
        "    contimp= contimp+1\n",
        "\n",
        "print(f\"Vetor: {vetor}\")\n",
        "print(f\"Maior valor: {max(vetor)}\")\n",
        "print(f\"Menor valor: {min(vetor)}\")\n",
        "print(f\"O dobro do maior número valor: {2*max(vetor)}\")\n",
        "print(f\"O triplo do maior valor: {3*min(vetor)}\")\n",
        "print(f\"Quantidade números impares:: {contimp}\")\n",
        "print(f\"Soma dos valores impares: {sum(vetimpar)}\")"
      ],
      "metadata": {
        "colab": {
          "base_uri": "https://localhost:8080/"
        },
        "id": "w4vPPBpThK4N",
        "outputId": "26f4796e-2f12-4d94-f1de-e07fa69aa0a8"
      },
      "execution_count": null,
      "outputs": [
        {
          "output_type": "stream",
          "name": "stdout",
          "text": [
            "1-Digite um número:1\n",
            "impar!\n",
            "2-Digite um número:2\n",
            "par!\n",
            "3-Digite um número:3\n",
            "impar!\n",
            "4-Digite um número:4\n",
            "par!\n",
            "5-Digite um número:5\n",
            "impar!\n",
            "6-Digite um número:6\n",
            "par!\n",
            "7-Digite um número:7\n",
            "impar!\n",
            "8-Digite um número:8\n",
            "par!\n",
            "9-Digite um número:9\n",
            "impar!\n",
            "10-Digite um número:10\n",
            "par!\n",
            "Vetor: [ 1.  2.  3.  4.  5.  6.  7.  8.  9. 10.]\n",
            "Maior valor: 10.0\n",
            "Menor valor: 1.0\n",
            "O dobro do maior número valor: 20.0\n",
            "O triplo do maior valor: 3.0\n",
            "Quantidade números impares:: 5\n",
            "Soma dos valores impares: 25.0\n"
          ]
        }
      ]
    }
  ]
}