{
  "nbformat": 4,
  "nbformat_minor": 0,
  "metadata": {
    "colab": {
      "provenance": []
    },
    "kernelspec": {
      "name": "python3",
      "display_name": "Python 3"
    },
    "language_info": {
      "name": "python"
    }
  },
  "cells": [
    {
      "cell_type": "markdown",
      "source": [
        "Estruturas de Dados - Lista"
      ],
      "metadata": {
        "id": "2Xf22N4JO5Q6"
      }
    },
    {
      "cell_type": "code",
      "source": [
        "#declarando uma lista\n",
        "idades=[]\n",
        "\n",
        "#declarando e alocando valores em uma lista\n",
        "idades=[20,30,55,60]\n",
        "print(f\"Imprimindo a lista: {idades}\")"
      ],
      "metadata": {
        "id": "G7EsUNqOO845"
      },
      "execution_count": null,
      "outputs": []
    },
    {
      "cell_type": "code",
      "source": [
        "#declarando e alocando diferentes tipos de valores em uma lista\n",
        "lista=['a',8,True,10.9,\"Gabriel\"]\n",
        "print(f\"\\nImprimindo uma lista com diferentes tipos de dados: \\n {lista}\")\n",
        "\n",
        "#acessando um elemento especifico da lista\n",
        "print(f\"\\nAcessando um elemento da lista: {lista[4]}\")\n",
        "\n",
        "#acessando o primeiro elemento de trás para frente da lista\n",
        "print(f\"\\nAcessando o primeiro elemento de trás para frente da lista: {lista[-1]}\")"
      ],
      "metadata": {
        "id": "Y-hzj0BkQUCa"
      },
      "execution_count": null,
      "outputs": []
    },
    {
      "cell_type": "code",
      "source": [
        "#criando uma lista dentro de outra lista\n",
        "lista=['a',8,True,[100,200,300],10.9,\"Gabriel\"]\n",
        "\n",
        "#acessando um elemento especifico da lista\n",
        "print(f\"\\nAcessando um elemento da lista: {lista[3]}\")\n",
        "\n",
        "#acessando um elemento especifico de uma lista dentro de outra lista\n",
        "print(f\"\\nAcessando um elemento de uma lista dentro de outra lista: {lista[3][2]}\")"
      ],
      "metadata": {
        "id": "NlyhkOSFRYui"
      },
      "execution_count": null,
      "outputs": []
    },
    {
      "cell_type": "code",
      "source": [
        "#armazenando grande quantidade de valores\n",
        "nota=[]\n",
        "\n",
        "for i in range(10):\n",
        "  nota = float(input(\"Digite uma nota: \"))\n",
        "  nota.append(nota)\n",
        "\n",
        "print(f\"Notas: {nota}\")\n"
      ],
      "metadata": {
        "id": "fV93bfUDSQzq"
      },
      "execution_count": null,
      "outputs": []
    },
    {
      "cell_type": "code",
      "source": [],
      "metadata": {
        "id": "X0Pm31tBT2UL"
      },
      "execution_count": null,
      "outputs": []
    }
  ]
}