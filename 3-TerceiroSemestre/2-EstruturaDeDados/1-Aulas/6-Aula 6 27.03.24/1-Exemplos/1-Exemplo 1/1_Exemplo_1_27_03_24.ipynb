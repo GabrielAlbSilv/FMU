{
  "nbformat": 4,
  "nbformat_minor": 0,
  "metadata": {
    "colab": {
      "provenance": []
    },
    "kernelspec": {
      "name": "python3",
      "display_name": "Python 3"
    },
    "language_info": {
      "name": "python"
    }
  },
  "cells": [
    {
      "cell_type": "markdown",
      "source": [
        "Estruturas de repetição - WHILE\n",
        "\n",
        "\n",
        "\n",
        "-Repetição com flag: usado quando não sabemos o número exato de repetições"
      ],
      "metadata": {
        "id": "t3qCeO2v2kaS"
      }
    },
    {
      "cell_type": "code",
      "source": [
        "cont = 0\n",
        "idade = int(input(\"Digite a idade: \"))\n",
        "while idade != 999:\n",
        "  idade = int(input(\"Digite a idade: \"))\n",
        "  cont+=1\n",
        "\n",
        "print(f\"Quantidade de pessoas: {cont}\")\n"
      ],
      "metadata": {
        "id": "J4Hw1LvA2lMh"
      },
      "execution_count": null,
      "outputs": []
    },
    {
      "cell_type": "markdown",
      "source": [
        "Faça um programa que calcule e mostre a média aritmética de N notas"
      ],
      "metadata": {
        "id": "Nl3w9q2O5mwK"
      }
    },
    {
      "cell_type": "code",
      "source": [
        "nota = 0\n",
        "med  = 0\n",
        "cont = 0\n",
        "\n",
        "while nota != 99:\n",
        "  nota = float(input(\"Digite uma nota OU 99 para sair:\"))\n",
        "  if(nota != 99):\n",
        "    cont+=1\n",
        "    med += nota\n",
        "\n",
        "if cont>0:\n",
        "  print(f\"Média das notas: {(med/cont):.2f}\")\n",
        "else:\n",
        "  print(\"Sem notas cadastradas\")\n"
      ],
      "metadata": {
        "id": "NrR291HB5tyy"
      },
      "execution_count": null,
      "outputs": []
    },
    {
      "cell_type": "markdown",
      "source": [
        "Uma academia deseja fazer um senso entre seus clientes para descobrir o mais alto, o mais baixo e o mais magro, para isto você deve fazer um programa que pergunte a cada um dos clientes da academia o seu código, sua altura e o seu peso. O final da digitação de dados deve ser dada quando o usuário digitar 0 (zero) no campo código. Ao encerrar o programa também deve ser informados os códigos e valores do cliente mais alto, mais baixo, do mais gordo e mais magro, além da média das alturas e pesos dos clientes."
      ],
      "metadata": {
        "id": "6wLB0ZqD-9Aa"
      }
    },
    {
      "cell_type": "code",
      "source": [
        "id = 0\n",
        "id_magro = 0\n",
        "id_gordo = 0\n",
        "id_alto = 0\n",
        "id_baixo = 0\n",
        "peso = 0\n",
        "alt = 0\n",
        "cont = 0\n",
        "maiorAlt = 0\n",
        "menorAlt = 999\n",
        "maiorPeso = 0\n",
        "menorPeso = 999\n",
        "medPeso = 0\n",
        "medAlt = 0\n",
        "\n",
        "while id != 999:\n",
        "    id = input(\"\\n \\nDigite o seu código: \")\n",
        "    if (id != 999):\n",
        "      cont +=1\n",
        "      peso = float(input(\"Digite o sua peso: \"))\n",
        "      alt = float(input(\"Digite a sua altura: \"))\n",
        "      medPeso += peso\n",
        "      medAlt += alt\n",
        "\n",
        "    if (alt>maiorAlt):\n",
        "      maiorAlt = alt\n",
        "      id_alto = id\n",
        "\n",
        "\n",
        "    if (alt<menorAlt):\n",
        "      menorAlt = alt\n",
        "      id_baixo = id\n",
        "\n",
        "    if (peso>maiorPeso):\n",
        "      maiorPeso = peso\n",
        "      id_gordo = id\n",
        "\n",
        "    if (peso<menorPeso):\n",
        "      menorPeso = peso\n",
        "      id_magro = id\n",
        "\n",
        "\n",
        "\n",
        "if(id == 999):\n",
        "  print(f\"Total clinetes: {cont}\")\n",
        "  print(f\"Cliente mais alto: {maiorAlt} \\n ID: {id_alto}\")\n",
        "  print(f\"Cliente mais baixo: {menorAlt}\\n ID: {id_baixo}\")\n",
        "  print(f\"Cliente mais gordo: {maiorPeso}\\n ID: {id_gordo}\")\n",
        "  print(f\"Cliente mais magro: {menorPeso}\\n ID: {id_magro}\")\n",
        "  print(f\"Média de altura: {medAlt/cont}\")\n",
        "  print(f\"Média de peso:   {medPeso/cont}\")\n",
        "\n",
        "\n",
        "\n",
        ""
      ],
      "metadata": {
        "id": "FQqaZR_j_rrL"
      },
      "execution_count": null,
      "outputs": []
    },
    {
      "cell_type": "code",
      "source": [],
      "metadata": {
        "id": "CtUSkbstBzB7"
      },
      "execution_count": null,
      "outputs": []
    }
  ]
}