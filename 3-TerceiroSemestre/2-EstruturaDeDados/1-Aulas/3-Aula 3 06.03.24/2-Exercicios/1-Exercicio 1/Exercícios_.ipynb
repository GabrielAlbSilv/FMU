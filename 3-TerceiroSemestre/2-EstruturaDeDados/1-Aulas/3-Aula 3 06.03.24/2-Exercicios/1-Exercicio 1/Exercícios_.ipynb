{
  "nbformat": 4,
  "nbformat_minor": 0,
  "metadata": {
    "colab": {
      "provenance": []
    },
    "kernelspec": {
      "name": "python3",
      "display_name": "Python 3"
    },
    "language_info": {
      "name": "python"
    }
  },
  "cells": [
    {
      "cell_type": "markdown",
      "source": [
        "-Exercicios\n",
        "\n",
        "-1) Faça um programa que exiba seu nome na tela\n",
        "\n",
        "-2)Escreva um programa que exiba o resultado de 2a x 3b, em que A vale 3 e b vale 5\n",
        "\n",
        "-3) Escreva um programa em Python que solicite ao usuário a distância entre duas cidades e o tempo de viagem. O programa deverá calcular e exibir a velocidade média de um carro que vai de uma cidade para outra. Utilize a fórmula: velMedia = distancia / tempo\n",
        "\n",
        "-4) Escreva um programa em Python que leia um valor representando o gasto realizado por um cliente do restaurante ComaBem e visualize o valor total a ser pago, considerando os 10% do garçom.\n",
        "\n",
        "-5) Desenvolva um programa em Python que solicite ao usuário os valores dos lados de um retângulo e calcule e mostre seu perímetro e sua área.\n",
        "\n",
        "-6) Escreva um programa em Python que solicite ao usuário o salário atual e mostre o salário acrescido de 5% de comissão.\n",
        "\n",
        "-7) Escreva um programa que calcule a soma de três variáveis e imprima o resultado na tela."
      ],
      "metadata": {
        "id": "t3p1xeC1-bhH"
      }
    },
    {
      "cell_type": "code",
      "source": [
        "#Exercicio 1\n",
        "nome=input(\"Digite o seu nome: \")\n",
        "print(\"Nome digitado: %s\" %nome)\n"
      ],
      "metadata": {
        "colab": {
          "base_uri": "https://localhost:8080/"
        },
        "id": "WzIO3e1X_PRF",
        "outputId": "17416d4f-a1a5-4333-9714-18c109d41ce2"
      },
      "execution_count": 3,
      "outputs": [
        {
          "output_type": "stream",
          "name": "stdout",
          "text": [
            "Digite o seu nome: aa\n",
            "Nome digitado: aa\n"
          ]
        }
      ]
    },
    {
      "cell_type": "code",
      "source": [
        "#Exercicio 2\n",
        "a=3\n",
        "b=5\n",
        "print(\"Resultado de %i x %i = %i\" %(a,b,a*b))"
      ],
      "metadata": {
        "colab": {
          "base_uri": "https://localhost:8080/"
        },
        "id": "10OoCFsY__-2",
        "outputId": "184b15a2-f481-46fd-f32d-0478b47f92f8"
      },
      "execution_count": 6,
      "outputs": [
        {
          "output_type": "stream",
          "name": "stdout",
          "text": [
            "Resultado de 3 x 5 = 15\n"
          ]
        }
      ]
    },
    {
      "cell_type": "code",
      "source": [
        "#Exercicio 3\n",
        "distancia=input(\"Digite a distâancia entre as cidades:\")\n",
        "tempo=input(\"Digite o tempo(em minutos) de viagem : \")\n",
        "distancia=int(distancia)\n",
        "tempo=int(tempo)\n",
        "print(\"Velocidade média: %.1f\" %(distancia/tempo))"
      ],
      "metadata": {
        "colab": {
          "base_uri": "https://localhost:8080/"
        },
        "id": "4v4yxiwZBJzU",
        "outputId": "616bf7c4-b82f-468e-dd2a-9f5d55160db6"
      },
      "execution_count": 9,
      "outputs": [
        {
          "output_type": "stream",
          "name": "stdout",
          "text": [
            "Digite a distâancia entre as cidades:100\n",
            "Digite o tempo(em minutos) de viagem : 25\n",
            "Velocidade média: 4.00\n"
          ]
        }
      ]
    },
    {
      "cell_type": "code",
      "source": [
        "#Exercicio 4\n",
        "conta=input(\"Digite o valor pago: \")\n",
        "conta=float(conta)\n",
        "print(\"Total: %.2f\" %((conta*0.10)+conta))"
      ],
      "metadata": {
        "colab": {
          "base_uri": "https://localhost:8080/"
        },
        "id": "MtLvHQWWCScz",
        "outputId": "442798f1-cf45-4451-c478-0caf5273e5a4"
      },
      "execution_count": 10,
      "outputs": [
        {
          "output_type": "stream",
          "name": "stdout",
          "text": [
            "Digite o valor pago: 50\n",
            "Total: 55.00\n"
          ]
        }
      ]
    },
    {
      "cell_type": "code",
      "source": [
        "\n",
        "#Exercicio 5\n",
        "lado=input(\"Digite o lado de um triângulo: \")\n",
        "lado=int(lado)\n",
        "print(\"Perimetro: %i ² =  %i\" %(lado,lado*lado))\n",
        "base=input(\"Digite a base de um triângulo:\")\n",
        "altura=input(\"Digite a altura de um triângulo:\")\n",
        "base=float(base)\n",
        "altura=float(altura)\n",
        "print(\"Área do triângulo: %.1f x %.1f / 2 = %.2f\" %(base,altura,(base*altura)/2))\n",
        "\n"
      ],
      "metadata": {
        "colab": {
          "base_uri": "https://localhost:8080/"
        },
        "id": "1AmSUkrzCxoK",
        "outputId": "e2de38e0-59cb-4a87-f732-34a795a0957f"
      },
      "execution_count": 17,
      "outputs": [
        {
          "output_type": "stream",
          "name": "stdout",
          "text": [
            "Digite o lado de um triângulo: 5\n",
            "Perimetro: 5 ² =  25\n",
            "Digite a base de um triângulo:5\n",
            "Digite a altura de um triângulo:10\n",
            "Área do triângulo: 5.0 x 10.0 / 2 = 25.00\n"
          ]
        }
      ]
    },
    {
      "cell_type": "code",
      "source": [
        "#Exercicio 6\n",
        "salario=input(\"Digite o salario:\")\n",
        "salario=float(salario)\n",
        "print(\"Total: %.2f\" %((salario*0.05)+salario))"
      ],
      "metadata": {
        "colab": {
          "base_uri": "https://localhost:8080/"
        },
        "id": "8uOpTekuDFJi",
        "outputId": "0dda0e5d-cba4-4aef-8106-9a346be692c3"
      },
      "execution_count": 18,
      "outputs": [
        {
          "output_type": "stream",
          "name": "stdout",
          "text": [
            "Digite o salario:1200\n",
            "Total: 1260.00\n"
          ]
        }
      ]
    },
    {
      "cell_type": "code",
      "source": [
        "#Exercicio 7\n",
        "val1=input(\"Digte o primeiro valor: \")\n",
        "val2=input(\"Digte o segundoi valor: \")\n",
        "val3=input(\"Digte o terceiro valor: \")\n",
        "val1=int(val1)\n",
        "val2=int(val2)\n",
        "val3=int(val3)\n",
        "print(\"Soma de %i + %i + %i = %i\" %(val1,val2,val3,(val1+val2+val3)))\n"
      ],
      "metadata": {
        "colab": {
          "base_uri": "https://localhost:8080/"
        },
        "id": "cFyXXHHgFR6g",
        "outputId": "052a36e6-ef43-42a4-ddda-302c707e17db"
      },
      "execution_count": 25,
      "outputs": [
        {
          "output_type": "stream",
          "name": "stdout",
          "text": [
            "Digte o primeiro valor: 1\n",
            "Digte o segundoi valor: 2\n",
            "Digte o terceiro valor: 3\n",
            "Soma de 1 + 2 + 3 = 6\n"
          ]
        }
      ]
    }
  ]
}