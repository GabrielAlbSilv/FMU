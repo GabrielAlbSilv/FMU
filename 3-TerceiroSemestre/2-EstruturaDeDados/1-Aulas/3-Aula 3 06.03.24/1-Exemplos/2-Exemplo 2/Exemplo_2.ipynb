{
  "nbformat": 4,
  "nbformat_minor": 0,
  "metadata": {
    "colab": {
      "provenance": []
    },
    "kernelspec": {
      "name": "python3",
      "display_name": "Python 3"
    },
    "language_info": {
      "name": "python"
    }
  },
  "cells": [
    {
      "cell_type": "markdown",
      "source": [
        "Variáveis de Memória\n",
        "\n",
        "-String :  nome = 'Gabriel'  \n",
        "-Int :     idade = 19        \n",
        "-float:     salario = 1200.50\n",
        "-booleano:  temFilhos = False"
      ],
      "metadata": {
        "id": "IzCL77J_3q4H"
      }
    },
    {
      "cell_type": "code",
      "source": [
        "nome = 'Gabriel'\n",
        "idade = 19\n",
        "salario = 1200.50\n",
        "temFilhos = False\n",
        "\n",
        "#exibindo com concatenação\n",
        "print(nome,\"tem\",idade,\"anos e ganha R$\",salario)\n",
        "\n",
        "#exibindo com estrutura de dados\n",
        "print(\"%s tem %i anos e ganha R$ %.2f\" %(nome,idade,salario))"
      ],
      "metadata": {
        "colab": {
          "base_uri": "https://localhost:8080/"
        },
        "id": "vWUWrZ-l3wKm",
        "outputId": "e8c370c5-a4d7-4be1-dbdc-b8f3c77c7371"
      },
      "execution_count": 10,
      "outputs": [
        {
          "output_type": "stream",
          "name": "stdout",
          "text": [
            "Gabriel tem 19 anos e ganha R$ 1200.5\n",
            "Gabriel tem 19 anos e ganha R$ 1200.50\n"
          ]
        }
      ]
    },
    {
      "cell_type": "markdown",
      "source": [
        "Entrada de dados\n",
        "\n",
        "-Toda informação digitada entra como string\n",
        "\n",
        "-Comando de entrada de dados: input()\n",
        "\n",
        "-Converter string (Casting):  \n",
        "\n",
        "1.   Para int: variavel=int(variavel)\n",
        "2.   Para float: variavel =float(variavel)\n",
        "\n"
      ],
      "metadata": {
        "id": "dgNXekZv7bMM"
      }
    },
    {
      "cell_type": "code",
      "source": [
        "nome=input(\"Digite um nome:\")\n",
        "print(\"Nome digitado: %s\" %nome)\n",
        "anoNasc=input(\"Digite o ano de nascimento: \")\n",
        "\n",
        "#Fazendo casting\n",
        "anoNasc=int(anoNasc)\n",
        "print(\"Ano de Nascimento: %i\" %anoNasc)\n"
      ],
      "metadata": {
        "colab": {
          "base_uri": "https://localhost:8080/"
        },
        "id": "jhe8klFO7rLy",
        "outputId": "a03465b5-bad7-420a-94d8-36b486f9e285"
      },
      "execution_count": 16,
      "outputs": [
        {
          "output_type": "stream",
          "name": "stdout",
          "text": [
            "Digite um nome:Gabriel\n",
            "Nome digitado: Gabriel\n",
            "Digite o ano de nascimento: 2004\n",
            "Ano de Nascimento: 2004\n"
          ]
        }
      ]
    }
  ]
}