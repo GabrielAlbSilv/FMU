{
  "nbformat": 4,
  "nbformat_minor": 0,
  "metadata": {
    "colab": {
      "provenance": []
    },
    "kernelspec": {
      "name": "python3",
      "display_name": "Python 3"
    },
    "language_info": {
      "name": "python"
    }
  },
  "cells": [
    {
      "cell_type": "code",
      "source": [],
      "metadata": {
        "id": "JeJGR4MLtBxY"
      },
      "execution_count": null,
      "outputs": []
    },
    {
      "cell_type": "markdown",
      "source": [
        "Conceitos básicos\n",
        "Phyton"
      ],
      "metadata": {
        "id": "I4T9XnIHtF5M"
      }
    },
    {
      "cell_type": "code",
      "source": [
        "#comentario no Phyton \"#\"\n",
        "#comando de saída\n",
        "#print(\"Trabalhando com Python\")\n",
        "#print('Novamente imprimindo')\n",
        "print(\"2000+155\")\n",
        "print(\"Resultado = \",2000+155)"
      ],
      "metadata": {
        "id": "QL6bwB7GtQAW"
      },
      "execution_count": null,
      "outputs": []
    },
    {
      "cell_type": "markdown",
      "source": [
        "Operadores Aritméticos\n",
        "\n",
        "-Soma +\n",
        "\n",
        "-Multiplicação *\n",
        "\n",
        "-Subtração -\n",
        "\n",
        "-Divisão:\n",
        "\n",
        "*  Divisão Normal /\n",
        "*  -Divisão Inteira //\n",
        "*  -Resto %\n",
        "\n",
        "-Exponenciação **"
      ],
      "metadata": {
        "id": "_bPwyZQwxBoQ"
      }
    },
    {
      "cell_type": "code",
      "source": [
        "print(\"divisão normal = 1500 / 2.3 =\",1500/2.3)\n",
        "print(\"divisão inteira = 1500 // 2.3 = \",1500//2.3)\n",
        "print(\"divisão resto = 1500 % 2.3 = \",1500%2.3)"
      ],
      "metadata": {
        "colab": {
          "base_uri": "https://localhost:8080/"
        },
        "id": "qSFKdky-yTdl",
        "outputId": "c99bda3a-8fd0-4af4-8338-6986a8fd1cd3"
      },
      "execution_count": 12,
      "outputs": [
        {
          "output_type": "stream",
          "name": "stdout",
          "text": [
            "divisão normal = 1500/2.3 = 652.1739130434784\n",
            "divisão inteira = 1500//2.3 =  652.0\n",
            "divisão resto = 1500%2.3 =  0.4000000000001158\n"
          ]
        }
      ]
    },
    {
      "cell_type": "code",
      "source": [
        "print(\"Exponenciação = 2^5 = \",2**5)"
      ],
      "metadata": {
        "colab": {
          "base_uri": "https://localhost:8080/"
        },
        "id": "wb9Z6VjnzN59",
        "outputId": "cb7b89ad-9cd7-4731-e41a-3b170099d560"
      },
      "execution_count": 16,
      "outputs": [
        {
          "output_type": "stream",
          "name": "stdout",
          "text": [
            "Exponenciação = 2^5 =  32\n"
          ]
        }
      ]
    },
    {
      "cell_type": "markdown",
      "source": [
        "Operadores Relacionais\n",
        "\n",
        "-Maior >\n",
        "\n",
        "-Menor <\n",
        "\n",
        "-Maior ou igual >=\n",
        "\n",
        "-Menor ou igual <=\n",
        "\n",
        "-Igual ==\n",
        "\n",
        "-Diferente !=\n",
        "\n",
        "-Sempre que trabalharmos com operaradores relacionais, os resultados serão booleanos (True or False)"
      ],
      "metadata": {
        "id": "cF8vMSzK0QID"
      }
    },
    {
      "cell_type": "code",
      "source": [
        "print(5>4)\n",
        "print(5==4)\n",
        "print(5!=4)"
      ],
      "metadata": {
        "colab": {
          "base_uri": "https://localhost:8080/"
        },
        "id": "vRxfdIU_0kts",
        "outputId": "9670feee-4b11-449a-dcce-ba52b830dd7f"
      },
      "execution_count": 19,
      "outputs": [
        {
          "output_type": "stream",
          "name": "stdout",
          "text": [
            "True\n",
            "False\n",
            "True\n"
          ]
        }
      ]
    }
  ]
}