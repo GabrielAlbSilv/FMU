{
  "nbformat": 4,
  "nbformat_minor": 0,
  "metadata": {
    "colab": {
      "provenance": []
    },
    "kernelspec": {
      "name": "python3",
      "display_name": "Python 3"
    },
    "language_info": {
      "name": "python"
    }
  },
  "cells": [
    {
      "cell_type": "markdown",
      "source": [
        "Estruturas de Repetição\n",
        "\n",
        "- for/range\n",
        "\n",
        "   -sintaxe: for contador in  range(repetições):\n",
        "                  comando a ser repetido\n",
        "   - prestar atenção na identação"
      ],
      "metadata": {
        "id": "8r_8Cw1k0qFo"
      }
    },
    {
      "cell_type": "code",
      "source": [
        "for i in range(5):\n",
        "  #identação\n",
        "  print(\"Olá mundo\")"
      ],
      "metadata": {
        "colab": {
          "base_uri": "https://localhost:8080/"
        },
        "id": "h15IXPQ62WEv",
        "outputId": "dc0970e5-c8b7-4b5a-9450-43db0cc84ce4"
      },
      "execution_count": 2,
      "outputs": [
        {
          "output_type": "stream",
          "name": "stdout",
          "text": [
            "Olá mundo\n",
            "Olá mundo\n",
            "Olá mundo\n",
            "Olá mundo\n",
            "Olá mundo\n"
          ]
        }
      ]
    },
    {
      "cell_type": "markdown",
      "source": [
        "for contador in range(inicio, termino,passo)"
      ],
      "metadata": {
        "id": "hQINm_8r2_8f"
      }
    },
    {
      "cell_type": "code",
      "source": [
        "#contando de 2 em 2, começando por 100 até 110\n",
        "for i in range(100,110,2):\n",
        "  print(i)"
      ],
      "metadata": {
        "colab": {
          "base_uri": "https://localhost:8080/"
        },
        "id": "R97lhhYT3Edf",
        "outputId": "0c544c77-daf2-48cc-ae55-ddaa9002c923"
      },
      "execution_count": 7,
      "outputs": [
        {
          "output_type": "stream",
          "name": "stdout",
          "text": [
            "100\n",
            "102\n",
            "104\n",
            "106\n",
            "108\n"
          ]
        }
      ]
    },
    {
      "cell_type": "markdown",
      "source": [
        "for com variáveis contadoras e variáveis acumuladoras\n",
        "\n",
        "-exemplo: Cadastrar o salário e o sexo de 10 pessoas. Ao final imprimir o número de mulheres e o total de salários  e o número homens com o total de salário"
      ],
      "metadata": {
        "id": "PtuaPbQC3tV_"
      }
    },
    {
      "cell_type": "code",
      "source": [
        "totalH = 0\n",
        "totalM = 0\n",
        "salM = 0\n",
        "salH = 0\n",
        "\n",
        "for pessoas in range(4):\n",
        "  sal = 0\n",
        "  sexo = input(\"Digite o seu sexo(M ou H): \")\n",
        "  sal = float(input(\"Digite o seu salário: \"))\n",
        "  if sexo == 'm' or sexo == 'M':\n",
        "    totalM = totalM+1\n",
        "    salM = salM + sal\n",
        "\n",
        "  elif sexo == 'h' or sexo == 'H':\n",
        "    totalH = totalH+1\n",
        "    salH = salH +sal\n",
        "\n",
        "  else:\n",
        "    print(\"Entrada inválida\")\n",
        "\n",
        "print(f\"Número de Mulheres: {totalM} Total do salário: R$ {salM:.2f}\")\n",
        "\n",
        "print(f\"Número de Homens: {totalH} do salário: R$ {salH:.2f}\")"
      ],
      "metadata": {
        "colab": {
          "base_uri": "https://localhost:8080/"
        },
        "id": "gZByl_Bc3z7Z",
        "outputId": "dc3bba72-a848-4050-c08d-f2dd99351907"
      },
      "execution_count": 26,
      "outputs": [
        {
          "output_type": "stream",
          "name": "stdout",
          "text": [
            "Digite o seu sexo(M ou H): H\n",
            "Digite o seu salário: 10\n",
            "Digite o seu sexo(M ou H): h\n",
            "Digite o seu salário: 10\n",
            "Digite o seu sexo(M ou H): M\n",
            "Digite o seu salário: 20\n",
            "Digite o seu sexo(M ou H): m\n",
            "Digite o seu salário: 20\n",
            "Número de Mulheres: 2 Total do salário: R$ 40.00\n",
            "Número de Homens: 2 do salário: R$ 20.00\n"
          ]
        }
      ]
    }
  ]
}