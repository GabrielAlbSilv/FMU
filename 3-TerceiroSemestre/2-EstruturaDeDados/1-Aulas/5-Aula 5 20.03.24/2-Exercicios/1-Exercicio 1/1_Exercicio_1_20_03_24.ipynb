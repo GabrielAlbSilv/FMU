{
  "nbformat": 4,
  "nbformat_minor": 0,
  "metadata": {
    "colab": {
      "provenance": []
    },
    "kernelspec": {
      "name": "python3",
      "display_name": "Python 3"
    },
    "language_info": {
      "name": "python"
    }
  },
  "cells": [
    {
      "cell_type": "markdown",
      "source": [
        "1-Exercio: Escreva um programa para ler a nota de 10 alunos e contar quantos foram aprovados, sendo que, para ser aprovado, a nota deve ser maior ou igual a 6,0. Escreva número de aprovados"
      ],
      "metadata": {
        "id": "QLVXm59dCHAm"
      }
    },
    {
      "cell_type": "code",
      "source": [
        "#Exercicio 1\n",
        "cont = 0\n",
        "contre = 0\n",
        "\n",
        "for i in range(4):\n",
        "  nota = float(input(\"Digite a nota do aluno: \"))\n",
        "\n",
        "  if nota >= 6:\n",
        "    cont = cont + 1\n",
        "\n",
        "  else:\n",
        "    contre = contre +1\n",
        "\n",
        "print(f\"Alunos aprovados: {cont}\")\n",
        "print(f\"Alunos reprvoados: {contre}\")\n"
      ],
      "metadata": {
        "colab": {
          "base_uri": "https://localhost:8080/"
        },
        "id": "poZ7OwAwCWHm",
        "outputId": "95de7c68-08ec-45b2-ed44-f6a138fdcf07"
      },
      "execution_count": 2,
      "outputs": [
        {
          "output_type": "stream",
          "name": "stdout",
          "text": [
            "Digite a nota do aluno: 10\n",
            "Digite a nota do aluno: 10\n",
            "Digite a nota do aluno: 1\n",
            "Digite a nota do aluno: 10\n",
            "Alunos aprovados: 3\n",
            "Alunos reprvoados: 1\n"
          ]
        }
      ]
    },
    {
      "cell_type": "markdown",
      "source": [
        "2-Exercicio: Faça um programa para ler o código e o preço de 15 produtos, calcular e escrever:\n",
        "      -o maior preço lido\n",
        "      -a média aritmética dos preços dos produtos"
      ],
      "metadata": {
        "id": "Q-roS-mkDL9-"
      }
    },
    {
      "cell_type": "code",
      "source": [
        "#Exercicio 2\n",
        "med = 0\n",
        "maior = 0\n",
        "menor = 9999999\n",
        "\n",
        "for i in range(4):\n",
        "  prec = 0\n",
        "  id = int(input(f\"Digite o código do produto x{i+1}: \"))\n",
        "  prec = float(input(\"Digite o preço do produto: \"))\n",
        "  if prec > maior:\n",
        "    maior = prec\n",
        "\n",
        "  if prec < menor:\n",
        "    menor = prec\n",
        "\n",
        "  med += prec\n",
        "\n",
        "med = (med/(i+1))\n",
        "print(f\"Média: {med}\")\n",
        "print(f\"Maior preço: {maior}\")\n",
        "print(f\"Menor preço: {menor}\")\n",
        "\n",
        "\n",
        "\n",
        "\n"
      ],
      "metadata": {
        "colab": {
          "base_uri": "https://localhost:8080/"
        },
        "id": "0ejToxBNDcZ-",
        "outputId": "0f04eb45-0619-4a1f-fc2f-d9349d61a40a"
      },
      "execution_count": 29,
      "outputs": [
        {
          "output_type": "stream",
          "name": "stdout",
          "text": [
            "Digite o código do produto x1: 10\n",
            "Digite o preço do produto: 10\n",
            "Digite o código do produto x2: 10\n",
            "Digite o preço do produto: 10\n",
            "Digite o código do produto x3: 10\n",
            "Digite o preço do produto: 10\n",
            "Digite o código do produto x4: 10\n",
            "Digite o preço do produto: 10\n",
            "Média: 10.0\n",
            "Maior preço: 10.0\n",
            "Menor preço: 10.0\n"
          ]
        }
      ]
    },
    {
      "cell_type": "markdown",
      "source": [
        "3-Exercicio: Cadastrar o salario de 10 pessoas. Exibir o número de mulheres que ganham mais que 5000.  Exibir o número de homens que ganham menos que 200"
      ],
      "metadata": {
        "id": "Geg7EzvuNqOt"
      }
    },
    {
      "cell_type": "code",
      "source": [
        "#Exercicio 3:\n",
        "contF = 0\n",
        "contM = 0\n",
        "\n",
        "for i in range(4):\n",
        "  sexo = input(\"Digite o seu sexo: \")\n",
        "  sal = float(input(\"Digite o seu salario: \"))\n",
        "\n",
        "  if sexo == 'F' or sexo == 'f' and sal > 5000:\n",
        "    contF += 1\n",
        "\n",
        "  elif sexo == 'M' or sexo == 'm 'and sal < 2000:\n",
        "    contM += 1\n",
        "\n",
        "print(f\"Mulheres que ganham mais de R$ 5000: {contF}\")\n",
        "\n",
        "print(f\"\\nHomens que ganham menoss de R$ 2000: {contM}\")\n"
      ],
      "metadata": {
        "colab": {
          "base_uri": "https://localhost:8080/"
        },
        "id": "4kelN9dpN7Ml",
        "outputId": "f65909a7-a46d-4519-f87c-42f561c6ae23"
      },
      "execution_count": 31,
      "outputs": [
        {
          "output_type": "stream",
          "name": "stdout",
          "text": [
            "Digite o seu sexo: f\n",
            "Digite o seu salario: 10000\n",
            "Digite o seu sexo: f\n",
            "Digite o seu salario: 200\n",
            "Digite o seu sexo: m\n",
            "Digite o seu salario: 50000\n",
            "Digite o seu sexo: m\n",
            "Digite o seu salario: 50\n",
            "Mulheres que ganham mais de R$ 5000: 1\n",
            "\n",
            "Homens que ganham menoss de R$ 2000: 0\n"
          ]
        }
      ]
    }
  ]
}