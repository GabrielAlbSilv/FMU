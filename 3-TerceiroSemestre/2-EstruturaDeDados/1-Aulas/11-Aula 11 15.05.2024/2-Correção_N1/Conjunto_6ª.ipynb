{
  "nbformat": 4,
  "nbformat_minor": 0,
  "metadata": {
    "colab": {
      "provenance": []
    },
    "kernelspec": {
      "name": "python3",
      "display_name": "Python 3"
    },
    "language_info": {
      "name": "python"
    }
  },
  "cells": [
    {
      "cell_type": "code",
      "execution_count": null,
      "metadata": {
        "colab": {
          "base_uri": "https://localhost:8080/"
        },
        "id": "P5jb0GtzzcXu",
        "outputId": "fc6213f5-1693-45f0-9d5c-ee461b9fc84f"
      },
      "outputs": [
        {
          "output_type": "stream",
          "name": "stdout",
          "text": [
            "<class 'set'>\n"
          ]
        }
      ],
      "source": [
        "#Conjunto ==> set representado por {}\n",
        "#não confundir com dicionário {chave:valor}\n",
        "#vou chamar de cj um conjunto\n",
        "cj={1,2,3,4}\n",
        "print (type(cj))"
      ]
    },
    {
      "cell_type": "code",
      "source": [
        "cj=set({'Amarelo','Azul'})\n",
        "type (cj)\n",
        "print (cj)\n"
      ],
      "metadata": {
        "colab": {
          "base_uri": "https://localhost:8080/"
        },
        "id": "AyFcFM_l0MLV",
        "outputId": "fd3e5920-2f72-4d7b-826f-461fc9d4ee3f"
      },
      "execution_count": null,
      "outputs": [
        {
          "output_type": "stream",
          "name": "stdout",
          "text": [
            "{'Amarelo', 'Azul'}\n"
          ]
        }
      ]
    },
    {
      "cell_type": "code",
      "source": [
        "frutasVermelhas={'Morango','Acerola','Melancia'}\n",
        "frutasAmarelas={'Manga','Pessego','Banana','Acerola'}\n",
        "#união de conjuntos\n",
        "frutas=frutasVermelhas | frutasAmarelas\n",
        "print(frutas)\n",
        "#intersecção de conjuntos\n",
        "frutas=frutasVermelhas & frutasAmarelas\n",
        "print(frutas)\n",
        "#tamanho do conjunto\n",
        "print (f\"Total de elementos: {len(frutas)}\")"
      ],
      "metadata": {
        "colab": {
          "base_uri": "https://localhost:8080/"
        },
        "id": "_sQLBwva08et",
        "outputId": "672e7a35-84c1-4f9a-8756-9d86d278ab46"
      },
      "execution_count": null,
      "outputs": [
        {
          "output_type": "stream",
          "name": "stdout",
          "text": [
            "{'Morango', 'Acerola', 'Melancia', 'Pessego', 'Manga', 'Banana'}\n",
            "{'Acerola'}\n",
            "Total de elementos: 1\n"
          ]
        }
      ]
    },
    {
      "cell_type": "code",
      "source": [
        "frutasVermelhas={'Morango','Acerola','Melancia'}\n",
        "frutasAmarelas={'Manga','Pessego','Banana','Acerola'}\n",
        "frutas=frutasVermelhas | frutasAmarelas\n",
        "#ATENÇÃO /*/*/*/*/*/*/*/\n",
        "print (f\"Total de elementos: {len(frutas)}\")\n"
      ],
      "metadata": {
        "colab": {
          "base_uri": "https://localhost:8080/"
        },
        "id": "GP40yLAM2qOt",
        "outputId": "8e223063-b990-4da6-b891-e536cbec3d8a"
      },
      "execution_count": null,
      "outputs": [
        {
          "output_type": "stream",
          "name": "stdout",
          "text": [
            "Total de elementos: 6\n"
          ]
        }
      ]
    },
    {
      "cell_type": "code",
      "source": [
        "frutasVermelhas={'Morango','Acerola','Melancia'}\n",
        "#ACESSANDO OS ELEMENTOS - não pode ser por índice\n",
        "print (frutasVermelhas[2])"
      ],
      "metadata": {
        "colab": {
          "base_uri": "https://localhost:8080/",
          "height": 176
        },
        "id": "MS0CL_hm3My9",
        "outputId": "f42547e8-35fd-4ac3-dcea-4d2605d0091b"
      },
      "execution_count": null,
      "outputs": [
        {
          "output_type": "error",
          "ename": "TypeError",
          "evalue": "'set' object is not subscriptable",
          "traceback": [
            "\u001b[0;31m---------------------------------------------------------------------------\u001b[0m",
            "\u001b[0;31mTypeError\u001b[0m                                 Traceback (most recent call last)",
            "\u001b[0;32m<ipython-input-10-be1d6088a420>\u001b[0m in \u001b[0;36m<cell line: 3>\u001b[0;34m()\u001b[0m\n\u001b[1;32m      1\u001b[0m \u001b[0mfrutasVermelhas\u001b[0m\u001b[0;34m=\u001b[0m\u001b[0;34m{\u001b[0m\u001b[0;34m'Morango'\u001b[0m\u001b[0;34m,\u001b[0m\u001b[0;34m'Acerola'\u001b[0m\u001b[0;34m,\u001b[0m\u001b[0;34m'Melancia'\u001b[0m\u001b[0;34m}\u001b[0m\u001b[0;34m\u001b[0m\u001b[0;34m\u001b[0m\u001b[0m\n\u001b[1;32m      2\u001b[0m \u001b[0;31m#ACESSANDO OS ELEMENTOS\u001b[0m\u001b[0;34m\u001b[0m\u001b[0;34m\u001b[0m\u001b[0m\n\u001b[0;32m----> 3\u001b[0;31m \u001b[0mprint\u001b[0m \u001b[0;34m(\u001b[0m\u001b[0mfrutasVermelhas\u001b[0m\u001b[0;34m[\u001b[0m\u001b[0;36m2\u001b[0m\u001b[0;34m]\u001b[0m\u001b[0;34m)\u001b[0m\u001b[0;34m\u001b[0m\u001b[0;34m\u001b[0m\u001b[0m\n\u001b[0m",
            "\u001b[0;31mTypeError\u001b[0m: 'set' object is not subscriptable"
          ]
        }
      ]
    },
    {
      "cell_type": "code",
      "source": [
        "frutasVermelhas={'Morango','Acerola','Melancia'}\n",
        "#só podemos acessar iterando.\n",
        "for xxx in frutasVermelhas:\n",
        "  print(xxx)\n"
      ],
      "metadata": {
        "colab": {
          "base_uri": "https://localhost:8080/"
        },
        "id": "pJ51EC0d37ac",
        "outputId": "c14734eb-fe01-4761-cedc-141963e4d987"
      },
      "execution_count": null,
      "outputs": [
        {
          "output_type": "stream",
          "name": "stdout",
          "text": [
            "Morango\n",
            "Acerola\n",
            "Melancia\n"
          ]
        }
      ]
    },
    {
      "cell_type": "code",
      "source": [
        "frutasVermelhas={'Morango','Acerola','Melancia'}\n",
        "frutasVermelhas=list(frutasVermelhas)\n",
        "print (frutasVermelhas)\n",
        "#só podemos acessar iterando.\n",
        "lista=[]\n",
        "for fruta in frutasVermelhas:\n",
        "  lista.append(fruta)\n",
        "\n",
        "print(lista)"
      ],
      "metadata": {
        "colab": {
          "base_uri": "https://localhost:8080/"
        },
        "id": "Dzyzqs6u37TG",
        "outputId": "d2e712d5-d34a-44b9-98e6-4314e2cff90d"
      },
      "execution_count": null,
      "outputs": [
        {
          "output_type": "stream",
          "name": "stdout",
          "text": [
            "['Morango', 'Acerola', 'Melancia']\n",
            "['Morango', 'Acerola', 'Melancia']\n"
          ]
        }
      ]
    },
    {
      "cell_type": "code",
      "source": [],
      "metadata": {
        "id": "VniR4Jck4iFl"
      },
      "execution_count": null,
      "outputs": []
    }
  ]
}