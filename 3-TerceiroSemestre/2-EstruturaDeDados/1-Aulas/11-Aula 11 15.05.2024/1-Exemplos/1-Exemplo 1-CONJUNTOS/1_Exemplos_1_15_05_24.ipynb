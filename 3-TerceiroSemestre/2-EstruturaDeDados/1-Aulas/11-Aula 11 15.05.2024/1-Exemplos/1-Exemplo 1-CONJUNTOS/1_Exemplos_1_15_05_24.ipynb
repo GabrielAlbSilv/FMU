{
  "nbformat": 4,
  "nbformat_minor": 0,
  "metadata": {
    "colab": {
      "provenance": []
    },
    "kernelspec": {
      "name": "python3",
      "display_name": "Python 3"
    },
    "language_info": {
      "name": "python"
    }
  },
  "cells": [
    {
      "cell_type": "code",
      "execution_count": null,
      "metadata": {
        "colab": {
          "base_uri": "https://localhost:8080/"
        },
        "id": "VChZsY6MToU9",
        "outputId": "1a77a628-2def-461c-a16f-72686bc68e7e"
      },
      "outputs": [
        {
          "output_type": "stream",
          "name": "stdout",
          "text": [
            "<class 'set'>\n",
            "{1, 2, 3, 4}\n"
          ]
        }
      ],
      "source": [
        "#ESTRUTURA DE DADOS - CONJUNTO\n",
        "#Conjunto é uma coleção não ordenada\n",
        "#Imutável (conseguimos exlucir e inserir)\n",
        "#Imutável = só não consigo alterar o que já está inserido\n",
        "#Não indexada\n",
        "\n",
        "cj={1,2,3,4}\n",
        "print(type(cj))\n",
        "print(cj)"
      ]
    },
    {
      "cell_type": "code",
      "source": [],
      "metadata": {
        "id": "89RRvsCJd5O3"
      },
      "execution_count": null,
      "outputs": []
    },
    {
      "cell_type": "code",
      "source": [],
      "metadata": {
        "id": "AlzutiHwd51O"
      },
      "execution_count": null,
      "outputs": []
    },
    {
      "cell_type": "code",
      "source": [
        "#Função set\n",
        "cj=set({'Amarelo','Azul'})\n",
        "print(type(cj))\n",
        "print(cj)"
      ],
      "metadata": {
        "colab": {
          "base_uri": "https://localhost:8080/"
        },
        "id": "YIl9KcG8UY9h",
        "outputId": "b38638e8-9deb-4bc1-a5d1-438270889055"
      },
      "execution_count": null,
      "outputs": [
        {
          "output_type": "stream",
          "name": "stdout",
          "text": [
            "<class 'set'>\n",
            "{'Azul', 'Amarelo'}\n"
          ]
        }
      ]
    },
    {
      "cell_type": "code",
      "source": [
        "frutasVermelhas={'Morango','Acerola','Melancia'}\n",
        "frutasAmarelas={'Manga','Pessego','Banana','Acerola'}\n",
        "\n",
        "#união de conjuntos\n",
        "frutas = frutasVermelhas | frutasAmarelas\n",
        "print(frutas)\n",
        "#ou\n",
        "frutas1 = frutasVermelhas.union(frutasAmarelas)\n",
        "print(frutas1)\n",
        "\n",
        "#intersecção\n",
        "frutas2 =  frutasVermelhas & frutasAmarelas\n",
        "print(frutas2)\n",
        "#ou\n",
        "frutas3 = frutasVermelhas.intersection(frutasAmarelas)\n",
        "print(frutas3)\n",
        "\n",
        "#tamanho do conjunto\n",
        "print(f\"Total de frutas: {len(frutas)}\")\n",
        "print(f\"Total de frutas vermelhas: {len(frutasVermelhas)}\")\n",
        "print(f\"Total de frutas amarelas: {len(frutasAmarelas)}\")\n"
      ],
      "metadata": {
        "colab": {
          "base_uri": "https://localhost:8080/"
        },
        "id": "sy_DrrR9Vy0-",
        "outputId": "544e06aa-cd0a-4807-bc76-6975033a270b"
      },
      "execution_count": null,
      "outputs": [
        {
          "output_type": "stream",
          "name": "stdout",
          "text": [
            "{'Manga', 'Pessego', 'Acerola', 'Melancia', 'Banana', 'Morango'}\n",
            "{'Manga', 'Pessego', 'Acerola', 'Melancia', 'Banana', 'Morango'}\n",
            "{'Acerola'}\n",
            "{'Acerola'}\n",
            "Total de frutas: 6\n",
            "Total de frutas vermelhas: 3\n",
            "Total de frutas amarelas: 4\n"
          ]
        }
      ]
    },
    {
      "cell_type": "code",
      "source": [
        "frutasVermelhas={'Morango','Acerola','Melancia'}\n",
        "#só podemos acessar iterando\n",
        "\n",
        "for frutas in frutasVermelhas:\n",
        "  print(frutas)\n",
        "\n",
        "#armazenando em uma lista\n",
        "lista = []\n",
        "for fruta in frutasVermelhas:\n",
        "  lista.append(fruta)\n",
        "print(lista)\n",
        "\n",
        "\n",
        "lista1 = list(frutasVermelhas)\n",
        "print(lista1)"
      ],
      "metadata": {
        "colab": {
          "base_uri": "https://localhost:8080/"
        },
        "id": "X_45GNryaEEV",
        "outputId": "c79fede3-9fc8-4689-b5a7-cba16c66909c"
      },
      "execution_count": null,
      "outputs": [
        {
          "output_type": "stream",
          "name": "stdout",
          "text": [
            "Morango\n",
            "Acerola\n",
            "Melancia\n",
            "['Morango', 'Acerola', 'Melancia']\n",
            "['Morango', 'Acerola', 'Melancia']\n"
          ]
        }
      ]
    },
    {
      "cell_type": "code",
      "source": [
        "#Removendo valores\n",
        "frutasVermelhas={'Morango','Acerola','Melancia'}\n",
        "frutasVermelhas.remove('Acerola')\n",
        "print(frutasVermelhas)\n",
        "\n",
        "#Adicionando\n",
        "frutasVermelhas.add(\"Maçã\")\n",
        "print(frutasVermelhas)\n"
      ],
      "metadata": {
        "colab": {
          "base_uri": "https://localhost:8080/"
        },
        "id": "wRRPrbjkd6vl",
        "outputId": "852c624a-ca64-4d2c-b232-0e25660782fb"
      },
      "execution_count": 19,
      "outputs": [
        {
          "output_type": "stream",
          "name": "stdout",
          "text": [
            "{'Morango', 'Melancia'}\n",
            "{'Maçã', 'Morango', 'Melancia'}\n"
          ]
        }
      ]
    }
  ]
}