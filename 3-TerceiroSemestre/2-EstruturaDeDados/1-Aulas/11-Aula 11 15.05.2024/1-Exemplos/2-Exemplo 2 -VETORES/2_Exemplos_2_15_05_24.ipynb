{
  "nbformat": 4,
  "nbformat_minor": 0,
  "metadata": {
    "colab": {
      "provenance": []
    },
    "kernelspec": {
      "name": "python3",
      "display_name": "Python 3"
    },
    "language_info": {
      "name": "python"
    }
  },
  "cells": [
    {
      "cell_type": "code",
      "execution_count": 2,
      "metadata": {
        "colab": {
          "base_uri": "https://localhost:8080/"
        },
        "id": "qv8tv7TihHYS",
        "outputId": "465c3b8e-11a8-4370-c99d-c53b24751584"
      },
      "outputs": [
        {
          "output_type": "stream",
          "name": "stdout",
          "text": [
            "<class 'numpy.ndarray'>\n",
            "[1 2 3 4 5]\n"
          ]
        }
      ],
      "source": [
        "#Vetores\n",
        "\n",
        "#Importanto biblioteca\n",
        "import numpy as np\n",
        "\n",
        "#Criando uma lista e alocando os seus valores no vetor vet\n",
        "lista=[1,2,3,4,5]\n",
        "vet=np.array(lista)\n",
        "print(type(vet))\n",
        "print(vet)\n"
      ]
    },
    {
      "cell_type": "code",
      "source": [
        "#Matrizes\n",
        "\n",
        "#Importanto biblioteca\n",
        "import numpy as np\n",
        "matriz = np.array([[1,2,3],[4,5,6],[7,8,9]])\n",
        "print(type(matriz))\n",
        "print(matriz)"
      ],
      "metadata": {
        "colab": {
          "base_uri": "https://localhost:8080/"
        },
        "id": "BPjeyH5GipSX",
        "outputId": "d3af0b24-db26-4df0-c2d5-2f5ff7895812"
      },
      "execution_count": 4,
      "outputs": [
        {
          "output_type": "stream",
          "name": "stdout",
          "text": [
            "<class 'numpy.ndarray'>\n",
            "[[1 2 3]\n",
            " [4 5 6]\n",
            " [7 8 9]]\n"
          ]
        }
      ]
    },
    {
      "cell_type": "code",
      "source": [
        "#Importanto biblioteca\n",
        "import numpy as np\n",
        "vetDias = np.array(['segunda','terça','quarta','quinta','sexta','sabado','domingo'])\n",
        "print(vetDias)\n",
        "print(vetDias[4])\n",
        "print(vetDias[6])"
      ],
      "metadata": {
        "colab": {
          "base_uri": "https://localhost:8080/"
        },
        "id": "CLiiZnpKjaQv",
        "outputId": "f057eda7-971f-40a2-dc82-ecb0d43d3ee9"
      },
      "execution_count": 6,
      "outputs": [
        {
          "output_type": "stream",
          "name": "stdout",
          "text": [
            "['segunda' 'terça' 'quarta' 'quinta' 'sexta' 'sabado' 'domingo']\n",
            "sexta\n",
            "domingo\n"
          ]
        }
      ]
    },
    {
      "cell_type": "code",
      "source": [
        "#Importanto biblioteca\n",
        "import numpy as np\n",
        "tupla=(1,2,3)\n",
        "#Criando um vetor a partir de uma lista\n",
        "vetNum = np.array(tupla)\n",
        "print(type(vetNum))\n",
        "print(vetNum)"
      ],
      "metadata": {
        "colab": {
          "base_uri": "https://localhost:8080/"
        },
        "id": "-N2PyfaHk4ef",
        "outputId": "4c08519b-bf69-4863-e5f8-a28d898e7cf0"
      },
      "execution_count": 8,
      "outputs": [
        {
          "output_type": "stream",
          "name": "stdout",
          "text": [
            "<class 'numpy.ndarray'>\n",
            "[1 2 3]\n"
          ]
        }
      ]
    },
    {
      "cell_type": "code",
      "source": [
        "#Importanto biblioteca\n",
        "import numpy as np\n",
        "vetNum= np.array([4,16,64,625])\n",
        "print(vetNum)\n",
        "print(f\"Maior número do vetor: {max(vetNum)}\")\n",
        "print(f\"Menor número do vetor: {min(vetNum)}\")\n",
        "print(f\"Soma número do vetor: {sum(vetNum)}\")\n",
        "print(f\"Quantidade de números do vetor: {len(vetNum)}\")\n",
        "print(f\"Mediana dos números do vetor: {np.median(vetNum)}\")\n",
        "print(f\"Média de números do vetor: {np.mean(vetNum)}\")\n",
        "print(f\"Raíz quadrada dos números do vetor: {np.sqrt(vetNum)}\")\n"
      ],
      "metadata": {
        "colab": {
          "base_uri": "https://localhost:8080/"
        },
        "id": "ZBtTpi2rlqdQ",
        "outputId": "4c74e40f-58cb-4e00-baf4-3fe57dabc0d0"
      },
      "execution_count": 17,
      "outputs": [
        {
          "output_type": "stream",
          "name": "stdout",
          "text": [
            "[  4  16  64 625]\n",
            "Maior número do vetor: 625\n",
            "Menor número do vetor: 4\n",
            "Soma número do vetor: 709\n",
            "Quantidade de números do vetor: 4\n",
            "Mediana dos números do vetor: 40.0\n",
            "Média de números do vetor: 177.25\n",
            "Raíz quadrada dos números do vetor: [ 2.  4.  8. 25.]\n"
          ]
        }
      ]
    }
  ]
}