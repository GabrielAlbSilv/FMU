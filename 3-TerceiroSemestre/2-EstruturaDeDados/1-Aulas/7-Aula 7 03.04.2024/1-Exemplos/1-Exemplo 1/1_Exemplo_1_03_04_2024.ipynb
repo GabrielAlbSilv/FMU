{
  "nbformat": 4,
  "nbformat_minor": 0,
  "metadata": {
    "colab": {
      "provenance": []
    },
    "kernelspec": {
      "name": "python3",
      "display_name": "Python 3"
    },
    "language_info": {
      "name": "python"
    }
  },
  "cells": [
    {
      "cell_type": "markdown",
      "source": [
        "Lista-Métodos:"
      ],
      "metadata": {
        "id": "aL4ddS174Wp5"
      }
    },
    {
      "cell_type": "code",
      "source": [
        "lista = ['Linguagem C','Phyton','Cobol']\n",
        "print(lista)\n",
        "lista = [1,2,3,4]\n",
        "print(lista)\n",
        "type(lista)#tipo de dado"
      ],
      "metadata": {
        "colab": {
          "base_uri": "https://localhost:8080/"
        },
        "id": "doch_wOJ3yYB",
        "outputId": "69f31b36-82a8-4ed2-f91a-001bb05d1be7"
      },
      "execution_count": 1,
      "outputs": [
        {
          "output_type": "stream",
          "name": "stdout",
          "text": [
            "['Linguagem C', 'Phyton', 'Cobol']\n",
            "[1, 2, 3, 4]\n"
          ]
        },
        {
          "output_type": "execute_result",
          "data": {
            "text/plain": [
              "list"
            ]
          },
          "metadata": {},
          "execution_count": 1
        }
      ]
    },
    {
      "cell_type": "markdown",
      "source": [
        "Criando uma lista a partir da função list()\n",
        "        \n",
        "         -nome da lista = list([dados da lista])"
      ],
      "metadata": {
        "id": "kwS3_w1A40_h"
      }
    },
    {
      "cell_type": "code",
      "source": [
        "#criando uma lista pela função list\n",
        "lista = list(['a','b'])\n",
        "print(lista)\n",
        "type(lista)"
      ],
      "metadata": {
        "colab": {
          "base_uri": "https://localhost:8080/"
        },
        "id": "9oUnWT-T5DdU",
        "outputId": "3eb1a893-87e4-4935-df3c-71430d28ef26"
      },
      "execution_count": 4,
      "outputs": [
        {
          "output_type": "stream",
          "name": "stdout",
          "text": [
            "['a', 'b']\n"
          ]
        },
        {
          "output_type": "execute_result",
          "data": {
            "text/plain": [
              "list"
            ]
          },
          "metadata": {},
          "execution_count": 4
        }
      ]
    },
    {
      "cell_type": "markdown",
      "source": [
        "Lista com for"
      ],
      "metadata": {
        "id": "ygcMLVuM50wA"
      }
    },
    {
      "cell_type": "code",
      "source": [
        "#elevando os números da lista ao quadrado, começando por zero\n",
        "lista = [item**2 for item in range(10)]\n",
        "print(lista)\n",
        "\n",
        "#elevando os números da lista ao cubo, dez vezes, começando por cem, indo de cinco em cinco\n",
        "lista = [item**3 for item in range(10,100,5)]\n",
        "print(lista)"
      ],
      "metadata": {
        "colab": {
          "base_uri": "https://localhost:8080/"
        },
        "id": "IoApB6iI5fUa",
        "outputId": "60c678ac-ac2d-409b-e151-52ef3a8f375f"
      },
      "execution_count": 6,
      "outputs": [
        {
          "output_type": "stream",
          "name": "stdout",
          "text": [
            "[0, 1, 4, 9, 16, 25, 36, 49, 64, 81]\n",
            "[100, 225, 400, 625, 900, 1225, 1600, 2025, 2500, 3025, 3600, 4225, 4900, 5625, 6400, 7225, 8100, 9025]\n"
          ]
        }
      ]
    },
    {
      "cell_type": "code",
      "source": [
        "#registrando apenas números pares na lista, começando por zero até vinte\n",
        "lista = [numero for numero in range(20) if numero%2==0]\n",
        "print(lista)\n",
        "\n",
        "\n",
        "#registrando apenas números impares na lista, começando por zero até vinte\n",
        "lista = [numero for numero in range(20) if numero%2!=0]\n",
        "print(lista)"
      ],
      "metadata": {
        "colab": {
          "base_uri": "https://localhost:8080/"
        },
        "id": "v0idK4eF7apw",
        "outputId": "cf1d420a-c975-4701-ea49-bf35743efc0a"
      },
      "execution_count": 7,
      "outputs": [
        {
          "output_type": "stream",
          "name": "stdout",
          "text": [
            "[0, 2, 4, 6, 8, 10, 12, 14, 16, 18]\n",
            "[1, 3, 5, 7, 9, 11, 13, 15, 17, 19]\n"
          ]
        }
      ]
    },
    {
      "cell_type": "code",
      "source": [
        "#imprimindo posições específicas da lista\n",
        "lista = ['a','b','c','d']\n",
        "print(lista[0])\n",
        "print(lista[1])\n",
        "print(lista[2])\n",
        "print(lista[3])"
      ],
      "metadata": {
        "colab": {
          "base_uri": "https://localhost:8080/"
        },
        "id": "mG9ipzwY8Ehn",
        "outputId": "f452932d-1239-495d-9e87-6216a384aa17"
      },
      "execution_count": 9,
      "outputs": [
        {
          "output_type": "stream",
          "name": "stdout",
          "text": [
            "a\n",
            "b\n",
            "c\n",
            "d\n"
          ]
        }
      ]
    },
    {
      "cell_type": "code",
      "source": [
        "#imprimindo posições específicas da lista\n",
        "lista = ['a','b','c','d']\n",
        "#último elemento da lista\n",
        "print(lista[-1])\n",
        "print(lista[3])\n",
        "#penúltimo elemento da lista\n",
        "print(lista[-2])"
      ],
      "metadata": {
        "colab": {
          "base_uri": "https://localhost:8080/"
        },
        "id": "EBSoO0b29AN2",
        "outputId": "1fdf5335-0245-4892-c97e-6a8906b21290"
      },
      "execution_count": 10,
      "outputs": [
        {
          "output_type": "stream",
          "name": "stdout",
          "text": [
            "d\n",
            "d\n",
            "c\n"
          ]
        }
      ]
    },
    {
      "cell_type": "code",
      "source": [
        "#lista com sublista\n",
        "lista = [1,2,3,4,['a','b','c'],5,6]\n",
        "print(lista)\n",
        "\n",
        "#imprimindo primeiro elemento da sublista\n",
        "print(lista[4][0])\n",
        "#imprimindo a sublista\n",
        "print(lista[4])\n",
        "\n",
        "#incluindo número 22 no fim da lista\n",
        "lista.append(22)\n",
        "print(lista)\n",
        "#incluindo letra X no começo da lista\n",
        "lista.insert(0,'X')\n",
        "print(lista)\n",
        "#incluindo número 100 no fim da lista\n",
        "lista.append(100)\n",
        "\n",
        "print(f\"Lista completa: {lista}\")\n"
      ],
      "metadata": {
        "colab": {
          "base_uri": "https://localhost:8080/"
        },
        "id": "i8jpV6U591ZO",
        "outputId": "65174c16-754c-4c0c-bf85-5ab913e4d891"
      },
      "execution_count": 25,
      "outputs": [
        {
          "output_type": "stream",
          "name": "stdout",
          "text": [
            "[1, 2, 3, 4, ['a', 'b', 'c'], 5, 6]\n",
            "a\n",
            "['a', 'b', 'c']\n",
            "[1, 2, 3, 4, ['a', 'b', 'c'], 5, 6, 22]\n",
            "['X', 1, 2, 3, 4, ['a', 'b', 'c'], 5, 6, 22]\n",
            "Lista completa: ['X', 1, 2, 3, 4, ['a', 'b', 'c'], 5, 6, 22, 100]\n"
          ]
        }
      ]
    },
    {
      "cell_type": "code",
      "source": [
        "#percorremdo uma lista e usando 'enumerate' para indicar as posições\n",
        "lista = [1,2,3,4,['a','b','c'],5,6]\n",
        "for indice, valor in enumerate(lista):\n",
        "  print(f\"Indice: {indice}, valor: {valor}\")"
      ],
      "metadata": {
        "colab": {
          "base_uri": "https://localhost:8080/"
        },
        "id": "g8eJ6V_bBNtW",
        "outputId": "e80f7649-b80c-4810-db52-406e70d2d83f"
      },
      "execution_count": 27,
      "outputs": [
        {
          "output_type": "stream",
          "name": "stdout",
          "text": [
            "Indice: 0, valor: 1\n",
            "Indice: 1, valor: 2\n",
            "Indice: 2, valor: 3\n",
            "Indice: 3, valor: 4\n",
            "Indice: 4, valor: ['a', 'b', 'c']\n",
            "Indice: 5, valor: 5\n",
            "Indice: 6, valor: 6\n"
          ]
        }
      ]
    },
    {
      "cell_type": "code",
      "source": [
        "lista = [1,2,3,4,['a','b','c'],5,6]\n",
        "#recortando as posições começando por 3 até 5, contando de 1 em 1\n",
        "print(lista[3:5:1])"
      ],
      "metadata": {
        "colab": {
          "base_uri": "https://localhost:8080/"
        },
        "id": "uHenfenCC_hl",
        "outputId": "49a9f209-ea05-4082-e417-2c0d9ded2d88"
      },
      "execution_count": 33,
      "outputs": [
        {
          "output_type": "stream",
          "name": "stdout",
          "text": [
            "[4, ['a', 'b', 'c']]\n"
          ]
        }
      ]
    },
    {
      "cell_type": "code",
      "source": [
        "lista = list(range(20))\n",
        "print(lista)\n",
        "print(lista[10:19])\n",
        "print(lista[10:19:2])"
      ],
      "metadata": {
        "colab": {
          "base_uri": "https://localhost:8080/"
        },
        "id": "PqvTmpAJEYEU",
        "outputId": "83b076a5-3a7e-4270-d5fc-2bcde9ab7e86"
      },
      "execution_count": 34,
      "outputs": [
        {
          "output_type": "stream",
          "name": "stdout",
          "text": [
            "[0, 1, 2, 3, 4, 5, 6, 7, 8, 9, 10, 11, 12, 13, 14, 15, 16, 17, 18, 19]\n",
            "[10, 11, 12, 13, 14, 15, 16, 17, 18]\n",
            "[10, 12, 14, 16, 18]\n"
          ]
        }
      ]
    },
    {
      "cell_type": "code",
      "source": [
        "lista=[41,12,3,4,99,5,6]\n",
        "print(lista)\n",
        "#ordenando a lista por ordem crescente\n",
        "lista.sort()\n",
        "print(lista)\n",
        "#ordenando a lista por ordem inversa\n",
        "lista.sort(reverse=True)\n",
        "print(lista)\n",
        "print(f'Maior valor da lista: {max(lista)}')\n",
        "print(f'Menor valor da lista: {min(lista)}')\n",
        "print(f'Tamanho da lista: {len(lista)}')\n",
        "print(f'Soma dos elementos da lista: {sum(lista)}')"
      ],
      "metadata": {
        "colab": {
          "base_uri": "https://localhost:8080/"
        },
        "id": "80gCkSDTE7FL",
        "outputId": "9fd3888c-fe92-4a2d-a074-e0747ca794f8"
      },
      "execution_count": 39,
      "outputs": [
        {
          "output_type": "stream",
          "name": "stdout",
          "text": [
            "[41, 12, 3, 4, 99, 5, 6]\n",
            "[3, 4, 5, 6, 12, 41, 99]\n",
            "[99, 41, 12, 6, 5, 4, 3]\n",
            "Maior valor da lista: 99\n",
            "Menor valor da lista: 3\n",
            "Tamanho da lista: 7\n",
            "Soma dos elementos da lista: 170\n"
          ]
        }
      ]
    },
    {
      "cell_type": "code",
      "source": [
        "lista = [1,2,3,4,['a','b','c'],5,6]\n",
        "print(lista)\n",
        "#Removendo elementos da lista\n",
        "#Removendo valor da primeira posição da lista\n",
        "lista.pop(0)\n",
        "print(lista)\n",
        "\n",
        "#Removendo elemento especifico da lista\n",
        "lista.remove(5)\n",
        "print(lista)\n",
        "\n"
      ],
      "metadata": {
        "colab": {
          "base_uri": "https://localhost:8080/"
        },
        "id": "PLmv169xGfaT",
        "outputId": "5b433300-2175-4be0-9ba6-3d12f59cd24c"
      },
      "execution_count": 41,
      "outputs": [
        {
          "output_type": "stream",
          "name": "stdout",
          "text": [
            "[1, 2, 3, 4, ['a', 'b', 'c'], 5, 6]\n",
            "[2, 3, 4, ['a', 'b', 'c'], 5, 6]\n",
            "[2, 3, 4, ['a', 'b', 'c'], 6]\n"
          ]
        }
      ]
    },
    {
      "cell_type": "code",
      "source": [],
      "metadata": {
        "id": "xSEXSXyXIIUs"
      },
      "execution_count": null,
      "outputs": []
    }
  ]
}