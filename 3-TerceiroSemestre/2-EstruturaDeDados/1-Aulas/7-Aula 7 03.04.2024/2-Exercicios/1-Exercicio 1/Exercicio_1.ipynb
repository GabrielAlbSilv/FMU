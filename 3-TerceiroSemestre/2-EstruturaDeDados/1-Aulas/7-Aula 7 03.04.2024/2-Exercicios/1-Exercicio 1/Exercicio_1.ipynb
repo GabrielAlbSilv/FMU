{
  "nbformat": 4,
  "nbformat_minor": 0,
  "metadata": {
    "colab": {
      "provenance": []
    },
    "kernelspec": {
      "name": "python3",
      "display_name": "Python 3"
    },
    "language_info": {
      "name": "python"
    }
  },
  "cells": [
    {
      "cell_type": "markdown",
      "source": [
        "1-Faça um programa que calcule a média de um aluno a partir de cinco notas previamente cadastradas em uma lista\n",
        "           \n",
        "           -Utilize as notas: 6,7,6.5,4.8,8\n",
        "\n",
        "\n",
        "2- Criar um programa em Phyton que soliciteai usuário o nome de 5 pessoas e armazenar em uma lista. Em seguida, o programa deve classificar os nomes de modo ascendente e solicitar ao usuário um número de 0 a 4, correspondendo ao indíce, e o programa deverá mostrar o nome armazenado nesse indice\n",
        "\n",
        "\n",
        "3-Criar um programa em Phyton que solicite ao usuário o nome de 5 pessoas, armazene em uma lista e exibe os nomes digitados e o tamanho da lista. Em seguida o programa deve solicitar ao usuário um nome, e o programa deverá remover o nome armazenado na lista, exibir os nomes digitados e o tamanho da lista\n",
        "\n",
        "4-Faça um programa em Phyton que contenha 3 listas com os nomes: valores, par e impar. Solicite N números inteiros ao usuário e armazene-os na lista chamada valores (utilize o critério de parada o valor digite 999). Após  a obtenção dos dados, na lista par armazenar os pares, e na lista impar os números impares. Exibe os números armazenados nas 3 listas\n",
        "\n"
      ],
      "metadata": {
        "id": "8ZA26TatIsvK"
      }
    },
    {
      "cell_type": "code",
      "source": [
        "#Exercicio 1\n",
        "notas = [6,7,6.5,4.8,8]\n",
        "print(f\"Notas: {notas}\")\n",
        "print(f\"Média {((sum(notas))/6)}\")\n"
      ],
      "metadata": {
        "colab": {
          "base_uri": "https://localhost:8080/"
        },
        "id": "ZQZMlYzyLGMQ",
        "outputId": "38e97c33-b534-46f4-8316-518b3777c1d7"
      },
      "execution_count": null,
      "outputs": [
        {
          "output_type": "stream",
          "name": "stdout",
          "text": [
            "Notas: [6, 7, 6.5, 4.8, 8]\n",
            "Média 5.383333333333333\n"
          ]
        }
      ]
    },
    {
      "cell_type": "code",
      "source": [
        "#Exercicio 2\n",
        "nomes = list()\n",
        "for cont in range(5):\n",
        "  nome = input(\"Digite o nome: \")\n",
        "  nomes.append(nome)\n",
        "\n",
        "for indice, valor in enumerate(nomes):\n",
        "  nomes.sort()\n",
        "  print(f\"Indice: {indice}, nomes: {nomes[indice]}\")\n",
        "\n",
        "\n",
        "num=int(input(\"Digite um número:\"))\n",
        "print(nomes[num])\n",
        "\n"
      ],
      "metadata": {
        "colab": {
          "base_uri": "https://localhost:8080/"
        },
        "id": "LqVbSqf0LyeQ",
        "outputId": "d89e2c2f-1f80-4137-99b9-a0ed45895d45"
      },
      "execution_count": null,
      "outputs": [
        {
          "output_type": "stream",
          "name": "stdout",
          "text": [
            "Digite o nome: Gabriel\n",
            "Digite o nome: Vitoria\n",
            "Digite o nome: Ana\n",
            "Digite o nome: Rafael\n",
            "Digite o nome: Beatriz\n",
            "Indice: 0, nomes: Ana\n",
            "Indice: 1, nomes: Beatriz\n",
            "Indice: 2, nomes: Gabriel\n",
            "Indice: 3, nomes: Rafael\n",
            "Indice: 4, nomes: Vitoria\n",
            "Digite um número:2\n",
            "Gabriel\n"
          ]
        }
      ]
    },
    {
      "cell_type": "code",
      "source": [
        "#Exercicio 3\n",
        "nomes = list()\n",
        "for cont in range(5):\n",
        "  nome = input(f\"{cont}-Digite um nome:\")\n",
        "  nomes.append(nome)\n",
        "\n",
        "print(f\"Nomes digitados: {nomes}\")\n",
        "print(f\"Tamanho da lista: {len(nomes)}\")\n",
        "\n",
        "nome = input(\"Digite um nome para apagar: \")\n",
        "nomes.remove(nome)\n",
        "print(f\"Nomes restantes: {nomes}\")\n",
        "print(f\"Tamanho da lista: {len(nomes)}\")"
      ],
      "metadata": {
        "id": "OnhcWQsL6EWb"
      },
      "execution_count": null,
      "outputs": []
    },
    {
      "cell_type": "code",
      "source": [
        "#Exercicio 4\n",
        "valores = list()\n",
        "par = list()\n",
        "impar = list()\n",
        "cont = 0\n",
        "val = 0\n",
        "\n",
        "while val != 999:\n",
        "  val = int(input(f\"{cont}-Digite um número: \"))\n",
        "  if (val != 999):\n",
        "    cont = cont+1\n",
        "    valores.append(val)\n",
        "    if (val%2==0):\n",
        "        par.append(val)\n",
        "    elif (val%2!=0):\n",
        "        impar.append(val)\n",
        "\n",
        "\n",
        "if (cont == 0):\n",
        "   print(\"Não foram inseridos números válidos\")\n",
        "\n",
        "else:\n",
        "  print(f\"Valores: {valores}\")\n",
        "  print(f\"Valores pares: {par}\")\n",
        "  print(f\"Valores impares: {impar}\")"
      ],
      "metadata": {
        "id": "iVd0XCdE79TB",
        "colab": {
          "base_uri": "https://localhost:8080/"
        },
        "outputId": "343e1382-b6e3-490c-ebd0-7c76b97e5fb0"
      },
      "execution_count": 89,
      "outputs": [
        {
          "output_type": "stream",
          "name": "stdout",
          "text": [
            "0-Digite um número: 1\n",
            "1-Digite um número: 2\n",
            "2-Digite um número: 3\n",
            "3-Digite um número: 4\n",
            "4-Digite um número: 5\n",
            "5-Digite um número: 999\n",
            "Valores: [1, 2, 3, 4, 5]\n",
            "Valores pares: [2, 4]\n",
            "Valores impares: [1, 3, 5]\n"
          ]
        }
      ]
    }
  ]
}